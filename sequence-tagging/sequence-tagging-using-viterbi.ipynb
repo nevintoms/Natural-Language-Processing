{
  "nbformat": 4,
  "nbformat_minor": 0,
  "metadata": {
    "colab": {
      "provenance": []
    },
    "kernelspec": {
      "name": "python3",
      "display_name": "Python 3"
    },
    "language_info": {
      "name": "python"
    }
  },
  "cells": [
    {
      "cell_type": "code",
      "execution_count": 20,
      "metadata": {
        "colab": {
          "base_uri": "https://localhost:8080/"
        },
        "id": "nJ_BNsOam72M",
        "outputId": "627b084b-02c5-4a5c-ffb3-974755a3e6a2"
      },
      "outputs": [
        {
          "output_type": "stream",
          "name": "stderr",
          "text": [
            "[nltk_data] Downloading package treebank to /root/nltk_data...\n",
            "[nltk_data]   Package treebank is already up-to-date!\n",
            "[nltk_data] Downloading package universal_tagset to /root/nltk_data...\n",
            "[nltk_data]   Package universal_tagset is already up-to-date!\n"
          ]
        },
        {
          "output_type": "stream",
          "name": "stdout",
          "text": [
            "[[('Pierre', 'NOUN'), ('Vinken', 'NOUN'), (',', '.'), ('61', 'NUM'), ('years', 'NOUN'), ('old', 'ADJ'), (',', '.'), ('will', 'VERB'), ('join', 'VERB'), ('the', 'DET'), ('board', 'NOUN'), ('as', 'ADP'), ('a', 'DET'), ('nonexecutive', 'ADJ'), ('director', 'NOUN'), ('Nov.', 'NOUN'), ('29', 'NUM'), ('.', '.')], [('Mr.', 'NOUN'), ('Vinken', 'NOUN'), ('is', 'VERB'), ('chairman', 'NOUN'), ('of', 'ADP'), ('Elsevier', 'NOUN'), ('N.V.', 'NOUN'), (',', '.'), ('the', 'DET'), ('Dutch', 'NOUN'), ('publishing', 'VERB'), ('group', 'NOUN'), ('.', '.')]]\n"
          ]
        }
      ],
      "source": [
        "# Importing libraries\n",
        "import nltk\n",
        "import numpy as np\n",
        "import pandas as pd\n",
        "import random\n",
        "from sklearn.model_selection import train_test_split\n",
        "import pprint, time\n",
        "\n",
        "#download the treebank corpus from nltk\n",
        "nltk.download('treebank')\n",
        "\n",
        "#download the universal tagset from nltk\n",
        "nltk.download('universal_tagset')\n",
        "\n",
        "# reading the Treebank tagged sentences\n",
        "nltk_data = list(nltk.corpus.treebank.tagged_sents(tagset='universal'))\n",
        "\n",
        "#print the first two sentences along with tags\n",
        "print(nltk_data[:2])"
      ]
    },
    {
      "cell_type": "code",
      "source": [
        "#print each word with its respective tag for first two sentences\n",
        "for sent in nltk_data[:2]:\n",
        "  for tuple in sent:\n",
        "    print(tuple)"
      ],
      "metadata": {
        "colab": {
          "base_uri": "https://localhost:8080/"
        },
        "id": "qcKgUX0Jm-UU",
        "outputId": "7c8bcdd8-f78d-4dee-cb61-8c71f74ef83c"
      },
      "execution_count": 21,
      "outputs": [
        {
          "output_type": "stream",
          "name": "stdout",
          "text": [
            "('Pierre', 'NOUN')\n",
            "('Vinken', 'NOUN')\n",
            "(',', '.')\n",
            "('61', 'NUM')\n",
            "('years', 'NOUN')\n",
            "('old', 'ADJ')\n",
            "(',', '.')\n",
            "('will', 'VERB')\n",
            "('join', 'VERB')\n",
            "('the', 'DET')\n",
            "('board', 'NOUN')\n",
            "('as', 'ADP')\n",
            "('a', 'DET')\n",
            "('nonexecutive', 'ADJ')\n",
            "('director', 'NOUN')\n",
            "('Nov.', 'NOUN')\n",
            "('29', 'NUM')\n",
            "('.', '.')\n",
            "('Mr.', 'NOUN')\n",
            "('Vinken', 'NOUN')\n",
            "('is', 'VERB')\n",
            "('chairman', 'NOUN')\n",
            "('of', 'ADP')\n",
            "('Elsevier', 'NOUN')\n",
            "('N.V.', 'NOUN')\n",
            "(',', '.')\n",
            "('the', 'DET')\n",
            "('Dutch', 'NOUN')\n",
            "('publishing', 'VERB')\n",
            "('group', 'NOUN')\n",
            "('.', '.')\n"
          ]
        }
      ]
    },
    {
      "cell_type": "code",
      "source": [
        "# split data into training and validation set in the ratio 80:20\n",
        "train_set,test_set = train_test_split(nltk_data,train_size=0.80,test_size=0.20,random_state = 101)"
      ],
      "metadata": {
        "id": "qPDWfkbrnJaI"
      },
      "execution_count": 22,
      "outputs": []
    },
    {
      "cell_type": "code",
      "source": [
        "# create list of train and test tagged words\n",
        "train_tagged_words = [ tup for sent in train_set for tup in sent ]\n",
        "test_tagged_words = [ tup for sent in test_set for tup in sent ]\n",
        "print(len(train_tagged_words))\n",
        "print(len(test_tagged_words))"
      ],
      "metadata": {
        "colab": {
          "base_uri": "https://localhost:8080/"
        },
        "id": "OjNqH_rKnbN6",
        "outputId": "784242ae-5544-42ef-d604-1ecf6de896c5"
      },
      "execution_count": 23,
      "outputs": [
        {
          "output_type": "stream",
          "name": "stdout",
          "text": [
            "80310\n",
            "20366\n"
          ]
        }
      ]
    },
    {
      "cell_type": "code",
      "source": [
        "# check some of the tagged words.\n",
        "train_tagged_words[:5]"
      ],
      "metadata": {
        "colab": {
          "base_uri": "https://localhost:8080/"
        },
        "id": "mLbd7c1Pne9Z",
        "outputId": "51b941f2-538f-4e04-bb60-cd8721bf3744"
      },
      "execution_count": 24,
      "outputs": [
        {
          "output_type": "execute_result",
          "data": {
            "text/plain": [
              "[('Drink', 'NOUN'),\n",
              " ('Carrier', 'NOUN'),\n",
              " ('Competes', 'VERB'),\n",
              " ('With', 'ADP'),\n",
              " ('Cartons', 'NOUN')]"
            ]
          },
          "metadata": {},
          "execution_count": 24
        }
      ]
    },
    {
      "cell_type": "code",
      "source": [
        "#use set datatype to check how many unique tags are present in training data\n",
        "tags = {tag for word,tag in train_tagged_words}\n",
        "print(len(tags))\n",
        "print(tags)\n",
        "\n",
        "# check total words in vocabulary\n",
        "vocab = {word for word,tag in train_tagged_words}"
      ],
      "metadata": {
        "colab": {
          "base_uri": "https://localhost:8080/"
        },
        "id": "zcX-S5v7ng8-",
        "outputId": "a93ba11d-dc2f-4bed-e6e0-61247567c346"
      },
      "execution_count": 25,
      "outputs": [
        {
          "output_type": "stream",
          "name": "stdout",
          "text": [
            "12\n",
            "{'PRT', 'ADV', 'X', 'NUM', 'ADJ', 'DET', 'CONJ', '.', 'PRON', 'VERB', 'ADP', 'NOUN'}\n"
          ]
        }
      ]
    },
    {
      "cell_type": "code",
      "source": [
        "# compute Emission Probability\n",
        "def word_given_tag(word, tag, train_bag = train_tagged_words):\n",
        "    tag_list = [pair for pair in train_bag if pair[1]==tag]\n",
        "    count_tag = len(tag_list)#total number of times the passed tag occurred in train_bag\n",
        "    w_given_tag_list = [pair[0] for pair in tag_list if pair[0]==word]\n",
        "#now calculate the total number of times the passed word occurred as the passed tag.\n",
        "    count_w_given_tag = len(w_given_tag_list)\n",
        "\n",
        "\n",
        "    return (count_w_given_tag, count_tag)"
      ],
      "metadata": {
        "id": "7pBhy939ni2H"
      },
      "execution_count": 26,
      "outputs": []
    },
    {
      "cell_type": "code",
      "source": [
        "# compute  Transition Probability\n",
        "def t2_given_t1(t2, t1, train_bag = train_tagged_words):\n",
        "    tags = [pair[1] for pair in train_bag]\n",
        "    count_t1 = len([t for t in tags if t==t1])\n",
        "    count_t2_t1 = 0\n",
        "    for index in range(len(tags)-1):\n",
        "        if tags[index]==t1 and tags[index+1] == t2:\n",
        "            count_t2_t1 += 1\n",
        "    return (count_t2_t1, count_t1)"
      ],
      "metadata": {
        "id": "DPv2Qlx6nlDd"
      },
      "execution_count": 27,
      "outputs": []
    },
    {
      "cell_type": "code",
      "source": [
        "# creating t x t transition matrix of tags, t= no of tags\n",
        "# Matrix(i, j) represents P(jth tag after the ith tag)\n",
        "\n",
        "tags_matrix = np.zeros((len(tags), len(tags)), dtype='float32')\n",
        "for i, t1 in enumerate(list(tags)):\n",
        "    for j, t2 in enumerate(list(tags)):\n",
        "        tags_matrix[i, j] = t2_given_t1(t2, t1)[0]/t2_given_t1(t2, t1)[1]\n",
        "\n",
        "print(tags_matrix)"
      ],
      "metadata": {
        "colab": {
          "base_uri": "https://localhost:8080/"
        },
        "id": "P9Qh8O2Annb0",
        "outputId": "e3086821-89ab-49c4-f09c-cbdcabd28927"
      },
      "execution_count": 28,
      "outputs": [
        {
          "output_type": "stream",
          "name": "stdout",
          "text": [
            "[[1.17416831e-03 9.39334650e-03 1.21330721e-02 5.67514673e-02\n",
            "  8.29745606e-02 1.01369865e-01 2.34833662e-03 4.50097844e-02\n",
            "  1.76125243e-02 4.01174158e-01 1.95694715e-02 2.50489235e-01]\n",
            " [1.47401085e-02 8.14584941e-02 2.28859577e-02 2.98681147e-02\n",
            "  1.30721495e-01 7.13731572e-02 6.98215654e-03 1.39255241e-01\n",
            "  1.20248254e-02 3.39022487e-01 1.19472459e-01 3.21955010e-02]\n",
            " [1.85085520e-01 2.57543717e-02 7.57255405e-02 3.07514891e-03\n",
            "  1.76821072e-02 5.68902567e-02 1.03786280e-02 1.60868734e-01\n",
            "  5.41995019e-02 2.06419379e-01 1.42225638e-01 6.16951771e-02]\n",
            " [2.60621198e-02 3.57015361e-03 2.02427700e-01 1.84219927e-01\n",
            "  3.53445187e-02 3.57015361e-03 1.42806144e-02 1.19243130e-01\n",
            "  1.42806140e-03 2.07068902e-02 3.74866128e-02 3.51660132e-01]\n",
            " [1.14563107e-02 5.24271838e-03 2.09708735e-02 2.17475723e-02\n",
            "  6.33009672e-02 5.24271838e-03 1.68932043e-02 6.60194159e-02\n",
            "  1.94174761e-04 1.14563107e-02 8.05825219e-02 6.96893215e-01]\n",
            " [2.87480245e-04 1.20741697e-02 4.51343954e-02 2.28546783e-02\n",
            "  2.06410810e-01 6.03708485e-03 4.31220367e-04 1.73925534e-02\n",
            "  3.30602261e-03 4.02472317e-02 9.91806854e-03 6.35906279e-01]\n",
            " [4.39077942e-03 5.70801310e-02 9.33040585e-03 4.06147093e-02\n",
            "  1.13611415e-01 1.23490669e-01 5.48847427e-04 3.51262353e-02\n",
            "  6.03732169e-02 1.50384188e-01 5.59824370e-02 3.49066973e-01]\n",
            " [2.78940029e-03 5.25694676e-02 2.56410260e-02 7.82104954e-02\n",
            "  4.61323895e-02 1.72191828e-01 6.00793920e-02 9.23720598e-02\n",
            "  6.87694475e-02 8.96899477e-02 9.29084867e-02 2.18538776e-01]\n",
            " [1.41230067e-02 3.69020514e-02 8.83826911e-02 6.83371304e-03\n",
            "  7.06150308e-02 9.56719834e-03 5.01138950e-03 4.19134386e-02\n",
            "  6.83371304e-03 4.84738052e-01 2.23234631e-02 2.12756261e-01]\n",
            " [3.06629837e-02 8.38858187e-02 2.15930015e-01 2.28360966e-02\n",
            "  6.63904250e-02 1.33609578e-01 5.43278083e-03 3.48066315e-02\n",
            "  3.55432779e-02 1.67955801e-01 9.23572779e-02 1.10589318e-01]\n",
            " [1.26550242e-03 1.45532778e-02 3.45482156e-02 6.32751212e-02\n",
            "  1.07061505e-01 3.20931405e-01 1.01240189e-03 3.87243740e-02\n",
            "  6.96026310e-02 8.47886596e-03 1.69577319e-02 3.23588967e-01]\n",
            " [4.39345129e-02 1.68945398e-02 2.88252197e-02 9.14395228e-03\n",
            "  1.25838192e-02 1.31063312e-02 4.24540639e-02 2.40094051e-01\n",
            "  4.65906132e-03 1.49133503e-01 1.76826611e-01 2.62344331e-01]]\n"
          ]
        }
      ]
    },
    {
      "cell_type": "code",
      "source": [
        "# convert the matrix to a df for better readability\n",
        "#the table is same as the transition table shown in section 3 of article\n",
        "tags_df = pd.DataFrame(tags_matrix, columns = list(tags), index=list(tags))\n",
        "display(tags_df)"
      ],
      "metadata": {
        "colab": {
          "base_uri": "https://localhost:8080/",
          "height": 425
        },
        "id": "SUrhemqDnoxn",
        "outputId": "1d523ed2-29c2-49e1-9879-9a807f2ef222"
      },
      "execution_count": 29,
      "outputs": [
        {
          "output_type": "display_data",
          "data": {
            "text/plain": [
              "           PRT       ADV         X       NUM       ADJ       DET      CONJ  \\\n",
              "PRT   0.001174  0.009393  0.012133  0.056751  0.082975  0.101370  0.002348   \n",
              "ADV   0.014740  0.081458  0.022886  0.029868  0.130721  0.071373  0.006982   \n",
              "X     0.185086  0.025754  0.075726  0.003075  0.017682  0.056890  0.010379   \n",
              "NUM   0.026062  0.003570  0.202428  0.184220  0.035345  0.003570  0.014281   \n",
              "ADJ   0.011456  0.005243  0.020971  0.021748  0.063301  0.005243  0.016893   \n",
              "DET   0.000287  0.012074  0.045134  0.022855  0.206411  0.006037  0.000431   \n",
              "CONJ  0.004391  0.057080  0.009330  0.040615  0.113611  0.123491  0.000549   \n",
              ".     0.002789  0.052569  0.025641  0.078210  0.046132  0.172192  0.060079   \n",
              "PRON  0.014123  0.036902  0.088383  0.006834  0.070615  0.009567  0.005011   \n",
              "VERB  0.030663  0.083886  0.215930  0.022836  0.066390  0.133610  0.005433   \n",
              "ADP   0.001266  0.014553  0.034548  0.063275  0.107062  0.320931  0.001012   \n",
              "NOUN  0.043935  0.016895  0.028825  0.009144  0.012584  0.013106  0.042454   \n",
              "\n",
              "             .      PRON      VERB       ADP      NOUN  \n",
              "PRT   0.045010  0.017613  0.401174  0.019569  0.250489  \n",
              "ADV   0.139255  0.012025  0.339022  0.119472  0.032196  \n",
              "X     0.160869  0.054200  0.206419  0.142226  0.061695  \n",
              "NUM   0.119243  0.001428  0.020707  0.037487  0.351660  \n",
              "ADJ   0.066019  0.000194  0.011456  0.080583  0.696893  \n",
              "DET   0.017393  0.003306  0.040247  0.009918  0.635906  \n",
              "CONJ  0.035126  0.060373  0.150384  0.055982  0.349067  \n",
              ".     0.092372  0.068769  0.089690  0.092908  0.218539  \n",
              "PRON  0.041913  0.006834  0.484738  0.022323  0.212756  \n",
              "VERB  0.034807  0.035543  0.167956  0.092357  0.110589  \n",
              "ADP   0.038724  0.069603  0.008479  0.016958  0.323589  \n",
              "NOUN  0.240094  0.004659  0.149134  0.176827  0.262344  "
            ],
            "text/html": [
              "\n",
              "  <div id=\"df-62f72370-4bee-4f06-9d8d-3f01eb0efb47\" class=\"colab-df-container\">\n",
              "    <div>\n",
              "<style scoped>\n",
              "    .dataframe tbody tr th:only-of-type {\n",
              "        vertical-align: middle;\n",
              "    }\n",
              "\n",
              "    .dataframe tbody tr th {\n",
              "        vertical-align: top;\n",
              "    }\n",
              "\n",
              "    .dataframe thead th {\n",
              "        text-align: right;\n",
              "    }\n",
              "</style>\n",
              "<table border=\"1\" class=\"dataframe\">\n",
              "  <thead>\n",
              "    <tr style=\"text-align: right;\">\n",
              "      <th></th>\n",
              "      <th>PRT</th>\n",
              "      <th>ADV</th>\n",
              "      <th>X</th>\n",
              "      <th>NUM</th>\n",
              "      <th>ADJ</th>\n",
              "      <th>DET</th>\n",
              "      <th>CONJ</th>\n",
              "      <th>.</th>\n",
              "      <th>PRON</th>\n",
              "      <th>VERB</th>\n",
              "      <th>ADP</th>\n",
              "      <th>NOUN</th>\n",
              "    </tr>\n",
              "  </thead>\n",
              "  <tbody>\n",
              "    <tr>\n",
              "      <th>PRT</th>\n",
              "      <td>0.001174</td>\n",
              "      <td>0.009393</td>\n",
              "      <td>0.012133</td>\n",
              "      <td>0.056751</td>\n",
              "      <td>0.082975</td>\n",
              "      <td>0.101370</td>\n",
              "      <td>0.002348</td>\n",
              "      <td>0.045010</td>\n",
              "      <td>0.017613</td>\n",
              "      <td>0.401174</td>\n",
              "      <td>0.019569</td>\n",
              "      <td>0.250489</td>\n",
              "    </tr>\n",
              "    <tr>\n",
              "      <th>ADV</th>\n",
              "      <td>0.014740</td>\n",
              "      <td>0.081458</td>\n",
              "      <td>0.022886</td>\n",
              "      <td>0.029868</td>\n",
              "      <td>0.130721</td>\n",
              "      <td>0.071373</td>\n",
              "      <td>0.006982</td>\n",
              "      <td>0.139255</td>\n",
              "      <td>0.012025</td>\n",
              "      <td>0.339022</td>\n",
              "      <td>0.119472</td>\n",
              "      <td>0.032196</td>\n",
              "    </tr>\n",
              "    <tr>\n",
              "      <th>X</th>\n",
              "      <td>0.185086</td>\n",
              "      <td>0.025754</td>\n",
              "      <td>0.075726</td>\n",
              "      <td>0.003075</td>\n",
              "      <td>0.017682</td>\n",
              "      <td>0.056890</td>\n",
              "      <td>0.010379</td>\n",
              "      <td>0.160869</td>\n",
              "      <td>0.054200</td>\n",
              "      <td>0.206419</td>\n",
              "      <td>0.142226</td>\n",
              "      <td>0.061695</td>\n",
              "    </tr>\n",
              "    <tr>\n",
              "      <th>NUM</th>\n",
              "      <td>0.026062</td>\n",
              "      <td>0.003570</td>\n",
              "      <td>0.202428</td>\n",
              "      <td>0.184220</td>\n",
              "      <td>0.035345</td>\n",
              "      <td>0.003570</td>\n",
              "      <td>0.014281</td>\n",
              "      <td>0.119243</td>\n",
              "      <td>0.001428</td>\n",
              "      <td>0.020707</td>\n",
              "      <td>0.037487</td>\n",
              "      <td>0.351660</td>\n",
              "    </tr>\n",
              "    <tr>\n",
              "      <th>ADJ</th>\n",
              "      <td>0.011456</td>\n",
              "      <td>0.005243</td>\n",
              "      <td>0.020971</td>\n",
              "      <td>0.021748</td>\n",
              "      <td>0.063301</td>\n",
              "      <td>0.005243</td>\n",
              "      <td>0.016893</td>\n",
              "      <td>0.066019</td>\n",
              "      <td>0.000194</td>\n",
              "      <td>0.011456</td>\n",
              "      <td>0.080583</td>\n",
              "      <td>0.696893</td>\n",
              "    </tr>\n",
              "    <tr>\n",
              "      <th>DET</th>\n",
              "      <td>0.000287</td>\n",
              "      <td>0.012074</td>\n",
              "      <td>0.045134</td>\n",
              "      <td>0.022855</td>\n",
              "      <td>0.206411</td>\n",
              "      <td>0.006037</td>\n",
              "      <td>0.000431</td>\n",
              "      <td>0.017393</td>\n",
              "      <td>0.003306</td>\n",
              "      <td>0.040247</td>\n",
              "      <td>0.009918</td>\n",
              "      <td>0.635906</td>\n",
              "    </tr>\n",
              "    <tr>\n",
              "      <th>CONJ</th>\n",
              "      <td>0.004391</td>\n",
              "      <td>0.057080</td>\n",
              "      <td>0.009330</td>\n",
              "      <td>0.040615</td>\n",
              "      <td>0.113611</td>\n",
              "      <td>0.123491</td>\n",
              "      <td>0.000549</td>\n",
              "      <td>0.035126</td>\n",
              "      <td>0.060373</td>\n",
              "      <td>0.150384</td>\n",
              "      <td>0.055982</td>\n",
              "      <td>0.349067</td>\n",
              "    </tr>\n",
              "    <tr>\n",
              "      <th>.</th>\n",
              "      <td>0.002789</td>\n",
              "      <td>0.052569</td>\n",
              "      <td>0.025641</td>\n",
              "      <td>0.078210</td>\n",
              "      <td>0.046132</td>\n",
              "      <td>0.172192</td>\n",
              "      <td>0.060079</td>\n",
              "      <td>0.092372</td>\n",
              "      <td>0.068769</td>\n",
              "      <td>0.089690</td>\n",
              "      <td>0.092908</td>\n",
              "      <td>0.218539</td>\n",
              "    </tr>\n",
              "    <tr>\n",
              "      <th>PRON</th>\n",
              "      <td>0.014123</td>\n",
              "      <td>0.036902</td>\n",
              "      <td>0.088383</td>\n",
              "      <td>0.006834</td>\n",
              "      <td>0.070615</td>\n",
              "      <td>0.009567</td>\n",
              "      <td>0.005011</td>\n",
              "      <td>0.041913</td>\n",
              "      <td>0.006834</td>\n",
              "      <td>0.484738</td>\n",
              "      <td>0.022323</td>\n",
              "      <td>0.212756</td>\n",
              "    </tr>\n",
              "    <tr>\n",
              "      <th>VERB</th>\n",
              "      <td>0.030663</td>\n",
              "      <td>0.083886</td>\n",
              "      <td>0.215930</td>\n",
              "      <td>0.022836</td>\n",
              "      <td>0.066390</td>\n",
              "      <td>0.133610</td>\n",
              "      <td>0.005433</td>\n",
              "      <td>0.034807</td>\n",
              "      <td>0.035543</td>\n",
              "      <td>0.167956</td>\n",
              "      <td>0.092357</td>\n",
              "      <td>0.110589</td>\n",
              "    </tr>\n",
              "    <tr>\n",
              "      <th>ADP</th>\n",
              "      <td>0.001266</td>\n",
              "      <td>0.014553</td>\n",
              "      <td>0.034548</td>\n",
              "      <td>0.063275</td>\n",
              "      <td>0.107062</td>\n",
              "      <td>0.320931</td>\n",
              "      <td>0.001012</td>\n",
              "      <td>0.038724</td>\n",
              "      <td>0.069603</td>\n",
              "      <td>0.008479</td>\n",
              "      <td>0.016958</td>\n",
              "      <td>0.323589</td>\n",
              "    </tr>\n",
              "    <tr>\n",
              "      <th>NOUN</th>\n",
              "      <td>0.043935</td>\n",
              "      <td>0.016895</td>\n",
              "      <td>0.028825</td>\n",
              "      <td>0.009144</td>\n",
              "      <td>0.012584</td>\n",
              "      <td>0.013106</td>\n",
              "      <td>0.042454</td>\n",
              "      <td>0.240094</td>\n",
              "      <td>0.004659</td>\n",
              "      <td>0.149134</td>\n",
              "      <td>0.176827</td>\n",
              "      <td>0.262344</td>\n",
              "    </tr>\n",
              "  </tbody>\n",
              "</table>\n",
              "</div>\n",
              "    <div class=\"colab-df-buttons\">\n",
              "\n",
              "  <div class=\"colab-df-container\">\n",
              "    <button class=\"colab-df-convert\" onclick=\"convertToInteractive('df-62f72370-4bee-4f06-9d8d-3f01eb0efb47')\"\n",
              "            title=\"Convert this dataframe to an interactive table.\"\n",
              "            style=\"display:none;\">\n",
              "\n",
              "  <svg xmlns=\"http://www.w3.org/2000/svg\" height=\"24px\" viewBox=\"0 -960 960 960\">\n",
              "    <path d=\"M120-120v-720h720v720H120Zm60-500h600v-160H180v160Zm220 220h160v-160H400v160Zm0 220h160v-160H400v160ZM180-400h160v-160H180v160Zm440 0h160v-160H620v160ZM180-180h160v-160H180v160Zm440 0h160v-160H620v160Z\"/>\n",
              "  </svg>\n",
              "    </button>\n",
              "\n",
              "  <style>\n",
              "    .colab-df-container {\n",
              "      display:flex;\n",
              "      gap: 12px;\n",
              "    }\n",
              "\n",
              "    .colab-df-convert {\n",
              "      background-color: #E8F0FE;\n",
              "      border: none;\n",
              "      border-radius: 50%;\n",
              "      cursor: pointer;\n",
              "      display: none;\n",
              "      fill: #1967D2;\n",
              "      height: 32px;\n",
              "      padding: 0 0 0 0;\n",
              "      width: 32px;\n",
              "    }\n",
              "\n",
              "    .colab-df-convert:hover {\n",
              "      background-color: #E2EBFA;\n",
              "      box-shadow: 0px 1px 2px rgba(60, 64, 67, 0.3), 0px 1px 3px 1px rgba(60, 64, 67, 0.15);\n",
              "      fill: #174EA6;\n",
              "    }\n",
              "\n",
              "    .colab-df-buttons div {\n",
              "      margin-bottom: 4px;\n",
              "    }\n",
              "\n",
              "    [theme=dark] .colab-df-convert {\n",
              "      background-color: #3B4455;\n",
              "      fill: #D2E3FC;\n",
              "    }\n",
              "\n",
              "    [theme=dark] .colab-df-convert:hover {\n",
              "      background-color: #434B5C;\n",
              "      box-shadow: 0px 1px 3px 1px rgba(0, 0, 0, 0.15);\n",
              "      filter: drop-shadow(0px 1px 2px rgba(0, 0, 0, 0.3));\n",
              "      fill: #FFFFFF;\n",
              "    }\n",
              "  </style>\n",
              "\n",
              "    <script>\n",
              "      const buttonEl =\n",
              "        document.querySelector('#df-62f72370-4bee-4f06-9d8d-3f01eb0efb47 button.colab-df-convert');\n",
              "      buttonEl.style.display =\n",
              "        google.colab.kernel.accessAllowed ? 'block' : 'none';\n",
              "\n",
              "      async function convertToInteractive(key) {\n",
              "        const element = document.querySelector('#df-62f72370-4bee-4f06-9d8d-3f01eb0efb47');\n",
              "        const dataTable =\n",
              "          await google.colab.kernel.invokeFunction('convertToInteractive',\n",
              "                                                    [key], {});\n",
              "        if (!dataTable) return;\n",
              "\n",
              "        const docLinkHtml = 'Like what you see? Visit the ' +\n",
              "          '<a target=\"_blank\" href=https://colab.research.google.com/notebooks/data_table.ipynb>data table notebook</a>'\n",
              "          + ' to learn more about interactive tables.';\n",
              "        element.innerHTML = '';\n",
              "        dataTable['output_type'] = 'display_data';\n",
              "        await google.colab.output.renderOutput(dataTable, element);\n",
              "        const docLink = document.createElement('div');\n",
              "        docLink.innerHTML = docLinkHtml;\n",
              "        element.appendChild(docLink);\n",
              "      }\n",
              "    </script>\n",
              "  </div>\n",
              "\n",
              "\n",
              "<div id=\"df-78b3d0ab-eeed-4acc-a275-217569df7a67\">\n",
              "  <button class=\"colab-df-quickchart\" onclick=\"quickchart('df-78b3d0ab-eeed-4acc-a275-217569df7a67')\"\n",
              "            title=\"Suggest charts\"\n",
              "            style=\"display:none;\">\n",
              "\n",
              "<svg xmlns=\"http://www.w3.org/2000/svg\" height=\"24px\"viewBox=\"0 0 24 24\"\n",
              "     width=\"24px\">\n",
              "    <g>\n",
              "        <path d=\"M19 3H5c-1.1 0-2 .9-2 2v14c0 1.1.9 2 2 2h14c1.1 0 2-.9 2-2V5c0-1.1-.9-2-2-2zM9 17H7v-7h2v7zm4 0h-2V7h2v10zm4 0h-2v-4h2v4z\"/>\n",
              "    </g>\n",
              "</svg>\n",
              "  </button>\n",
              "\n",
              "<style>\n",
              "  .colab-df-quickchart {\n",
              "      --bg-color: #E8F0FE;\n",
              "      --fill-color: #1967D2;\n",
              "      --hover-bg-color: #E2EBFA;\n",
              "      --hover-fill-color: #174EA6;\n",
              "      --disabled-fill-color: #AAA;\n",
              "      --disabled-bg-color: #DDD;\n",
              "  }\n",
              "\n",
              "  [theme=dark] .colab-df-quickchart {\n",
              "      --bg-color: #3B4455;\n",
              "      --fill-color: #D2E3FC;\n",
              "      --hover-bg-color: #434B5C;\n",
              "      --hover-fill-color: #FFFFFF;\n",
              "      --disabled-bg-color: #3B4455;\n",
              "      --disabled-fill-color: #666;\n",
              "  }\n",
              "\n",
              "  .colab-df-quickchart {\n",
              "    background-color: var(--bg-color);\n",
              "    border: none;\n",
              "    border-radius: 50%;\n",
              "    cursor: pointer;\n",
              "    display: none;\n",
              "    fill: var(--fill-color);\n",
              "    height: 32px;\n",
              "    padding: 0;\n",
              "    width: 32px;\n",
              "  }\n",
              "\n",
              "  .colab-df-quickchart:hover {\n",
              "    background-color: var(--hover-bg-color);\n",
              "    box-shadow: 0 1px 2px rgba(60, 64, 67, 0.3), 0 1px 3px 1px rgba(60, 64, 67, 0.15);\n",
              "    fill: var(--button-hover-fill-color);\n",
              "  }\n",
              "\n",
              "  .colab-df-quickchart-complete:disabled,\n",
              "  .colab-df-quickchart-complete:disabled:hover {\n",
              "    background-color: var(--disabled-bg-color);\n",
              "    fill: var(--disabled-fill-color);\n",
              "    box-shadow: none;\n",
              "  }\n",
              "\n",
              "  .colab-df-spinner {\n",
              "    border: 2px solid var(--fill-color);\n",
              "    border-color: transparent;\n",
              "    border-bottom-color: var(--fill-color);\n",
              "    animation:\n",
              "      spin 1s steps(1) infinite;\n",
              "  }\n",
              "\n",
              "  @keyframes spin {\n",
              "    0% {\n",
              "      border-color: transparent;\n",
              "      border-bottom-color: var(--fill-color);\n",
              "      border-left-color: var(--fill-color);\n",
              "    }\n",
              "    20% {\n",
              "      border-color: transparent;\n",
              "      border-left-color: var(--fill-color);\n",
              "      border-top-color: var(--fill-color);\n",
              "    }\n",
              "    30% {\n",
              "      border-color: transparent;\n",
              "      border-left-color: var(--fill-color);\n",
              "      border-top-color: var(--fill-color);\n",
              "      border-right-color: var(--fill-color);\n",
              "    }\n",
              "    40% {\n",
              "      border-color: transparent;\n",
              "      border-right-color: var(--fill-color);\n",
              "      border-top-color: var(--fill-color);\n",
              "    }\n",
              "    60% {\n",
              "      border-color: transparent;\n",
              "      border-right-color: var(--fill-color);\n",
              "    }\n",
              "    80% {\n",
              "      border-color: transparent;\n",
              "      border-right-color: var(--fill-color);\n",
              "      border-bottom-color: var(--fill-color);\n",
              "    }\n",
              "    90% {\n",
              "      border-color: transparent;\n",
              "      border-bottom-color: var(--fill-color);\n",
              "    }\n",
              "  }\n",
              "</style>\n",
              "\n",
              "  <script>\n",
              "    async function quickchart(key) {\n",
              "      const quickchartButtonEl =\n",
              "        document.querySelector('#' + key + ' button');\n",
              "      quickchartButtonEl.disabled = true;  // To prevent multiple clicks.\n",
              "      quickchartButtonEl.classList.add('colab-df-spinner');\n",
              "      try {\n",
              "        const charts = await google.colab.kernel.invokeFunction(\n",
              "            'suggestCharts', [key], {});\n",
              "      } catch (error) {\n",
              "        console.error('Error during call to suggestCharts:', error);\n",
              "      }\n",
              "      quickchartButtonEl.classList.remove('colab-df-spinner');\n",
              "      quickchartButtonEl.classList.add('colab-df-quickchart-complete');\n",
              "    }\n",
              "    (() => {\n",
              "      let quickchartButtonEl =\n",
              "        document.querySelector('#df-78b3d0ab-eeed-4acc-a275-217569df7a67 button');\n",
              "      quickchartButtonEl.style.display =\n",
              "        google.colab.kernel.accessAllowed ? 'block' : 'none';\n",
              "    })();\n",
              "  </script>\n",
              "</div>\n",
              "\n",
              "  <div id=\"id_c1d2485d-8d3e-4100-b50b-a86e67723acd\">\n",
              "    <style>\n",
              "      .colab-df-generate {\n",
              "        background-color: #E8F0FE;\n",
              "        border: none;\n",
              "        border-radius: 50%;\n",
              "        cursor: pointer;\n",
              "        display: none;\n",
              "        fill: #1967D2;\n",
              "        height: 32px;\n",
              "        padding: 0 0 0 0;\n",
              "        width: 32px;\n",
              "      }\n",
              "\n",
              "      .colab-df-generate:hover {\n",
              "        background-color: #E2EBFA;\n",
              "        box-shadow: 0px 1px 2px rgba(60, 64, 67, 0.3), 0px 1px 3px 1px rgba(60, 64, 67, 0.15);\n",
              "        fill: #174EA6;\n",
              "      }\n",
              "\n",
              "      [theme=dark] .colab-df-generate {\n",
              "        background-color: #3B4455;\n",
              "        fill: #D2E3FC;\n",
              "      }\n",
              "\n",
              "      [theme=dark] .colab-df-generate:hover {\n",
              "        background-color: #434B5C;\n",
              "        box-shadow: 0px 1px 3px 1px rgba(0, 0, 0, 0.15);\n",
              "        filter: drop-shadow(0px 1px 2px rgba(0, 0, 0, 0.3));\n",
              "        fill: #FFFFFF;\n",
              "      }\n",
              "    </style>\n",
              "    <button class=\"colab-df-generate\" onclick=\"generateWithVariable('tags_df')\"\n",
              "            title=\"Generate code using this dataframe.\"\n",
              "            style=\"display:none;\">\n",
              "\n",
              "  <svg xmlns=\"http://www.w3.org/2000/svg\" height=\"24px\"viewBox=\"0 0 24 24\"\n",
              "       width=\"24px\">\n",
              "    <path d=\"M7,19H8.4L18.45,9,17,7.55,7,17.6ZM5,21V16.75L18.45,3.32a2,2,0,0,1,2.83,0l1.4,1.43a1.91,1.91,0,0,1,.58,1.4,1.91,1.91,0,0,1-.58,1.4L9.25,21ZM18.45,9,17,7.55Zm-12,3A5.31,5.31,0,0,0,4.9,8.1,5.31,5.31,0,0,0,1,6.5,5.31,5.31,0,0,0,4.9,4.9,5.31,5.31,0,0,0,6.5,1,5.31,5.31,0,0,0,8.1,4.9,5.31,5.31,0,0,0,12,6.5,5.46,5.46,0,0,0,6.5,12Z\"/>\n",
              "  </svg>\n",
              "    </button>\n",
              "    <script>\n",
              "      (() => {\n",
              "      const buttonEl =\n",
              "        document.querySelector('#id_c1d2485d-8d3e-4100-b50b-a86e67723acd button.colab-df-generate');\n",
              "      buttonEl.style.display =\n",
              "        google.colab.kernel.accessAllowed ? 'block' : 'none';\n",
              "\n",
              "      buttonEl.onclick = () => {\n",
              "        google.colab.notebook.generateWithVariable('tags_df');\n",
              "      }\n",
              "      })();\n",
              "    </script>\n",
              "  </div>\n",
              "\n",
              "    </div>\n",
              "  </div>\n"
            ]
          },
          "metadata": {}
        }
      ]
    },
    {
      "cell_type": "code",
      "source": [
        "def Viterbi(words, train_bag = train_tagged_words):\n",
        "    state = []\n",
        "    T = list(set([pair[1] for pair in train_bag]))\n",
        "\n",
        "    for key, word in enumerate(words):\n",
        "        #initialise list of probability column for a given observation\n",
        "        p = []\n",
        "        for tag in T:\n",
        "            if key == 0:\n",
        "                transition_p = tags_df.loc['.', tag]\n",
        "            else:\n",
        "                transition_p = tags_df.loc[state[-1], tag]\n",
        "\n",
        "            # compute emission and state probabilities\n",
        "            emission_p = word_given_tag(words[key], tag)[0]/word_given_tag(words[key], tag)[1]\n",
        "            state_probability = emission_p * transition_p\n",
        "            p.append(state_probability)\n",
        "\n",
        "        pmax = max(p)\n",
        "        # getting state for which probability is maximum\n",
        "        state_max = T[p.index(pmax)]\n",
        "        state.append(state_max)\n",
        "    return list(zip(words, state))"
      ],
      "metadata": {
        "id": "YOaDvhV1nrIG"
      },
      "execution_count": 30,
      "outputs": []
    },
    {
      "cell_type": "code",
      "source": [
        "# Let's test our Viterbi algorithm on a few sample sentences of test dataset\n",
        "random.seed(1234)      #define a random seed to get same sentences when run multiple times\n",
        "\n",
        "# choose random 10 numbers\n",
        "rndom = [random.randint(1,len(test_set)) for x in range(10)]\n",
        "\n",
        "# list of 10 sents on which we test the model\n",
        "test_run = [test_set[i] for i in rndom]\n",
        "\n",
        "# list of tagged words\n",
        "test_run_base = [tup for sent in test_run for tup in sent]\n",
        "\n",
        "# list of untagged words\n",
        "test_tagged_words = [tup[0] for sent in test_run for tup in sent]"
      ],
      "metadata": {
        "id": "cH_g5LUfns1_"
      },
      "execution_count": 31,
      "outputs": []
    },
    {
      "cell_type": "code",
      "source": [
        "#Here We will only test 10 sentences to check the accuracy\n",
        "#as testing the whole training set takes huge amount of time\n",
        "start = time.time()\n",
        "tagged_seq = Viterbi(test_tagged_words)\n",
        "end = time.time()\n",
        "difference = end-start\n",
        "\n",
        "print(\"Time taken in seconds: \", difference)\n",
        "\n",
        "# accuracy\n",
        "check = [i for i, j in zip(tagged_seq, test_run_base) if i == j]\n",
        "\n",
        "accuracy = len(check)/len(tagged_seq)\n",
        "print('Viterbi Algorithm Accuracy: ',accuracy*100)"
      ],
      "metadata": {
        "colab": {
          "base_uri": "https://localhost:8080/"
        },
        "id": "kVz8hwDGnuJd",
        "outputId": "d02cfc28-a6b1-49c7-c812-afb09563bc1a"
      },
      "execution_count": 32,
      "outputs": [
        {
          "output_type": "stream",
          "name": "stdout",
          "text": [
            "Time taken in seconds:  44.19222617149353\n",
            "Viterbi Algorithm Accuracy:  93.77990430622009\n"
          ]
        }
      ]
    },
    {
      "cell_type": "code",
      "source": [
        "#Code to test all the test sentences\n",
        "#(takes alot of time to run s0 we wont run it here)\n",
        "# tagging the test sentences()\n",
        "test_tagged_words = [tup for sent in test_set for tup in sent]\n",
        "test_untagged_words = [tup[0] for sent in test_set for tup in sent]\n",
        "test_untagged_words\n",
        "\n",
        "start = time.time()\n",
        "tagged_seq = Viterbi(test_untagged_words)\n",
        "end = time.time()\n",
        "difference = end-start\n",
        "\n",
        "print(\"Time taken in seconds: \", difference)\n",
        "\n",
        "# accuracy\n",
        "check = [i for i, j in zip(test_tagged_words, test_untagged_words) if i == j]\n",
        "\n",
        "accuracy = len(check)/len(tagged_seq)\n",
        "print('Viterbi Algorithm Accuracy: ',accuracy*100)"
      ],
      "metadata": {
        "colab": {
          "base_uri": "https://localhost:8080/",
          "height": 397
        },
        "id": "Wn52vmG_nvhN",
        "outputId": "6a950f38-b0d7-4af8-9684-7eb36558a0e6"
      },
      "execution_count": 15,
      "outputs": [
        {
          "output_type": "error",
          "ename": "KeyboardInterrupt",
          "evalue": "",
          "traceback": [
            "\u001b[0;31m---------------------------------------------------------------------------\u001b[0m",
            "\u001b[0;31mKeyboardInterrupt\u001b[0m                         Traceback (most recent call last)",
            "\u001b[0;32m<ipython-input-15-b0e4af67351e>\u001b[0m in \u001b[0;36m<cell line: 9>\u001b[0;34m()\u001b[0m\n\u001b[1;32m      7\u001b[0m \u001b[0;34m\u001b[0m\u001b[0m\n\u001b[1;32m      8\u001b[0m \u001b[0mstart\u001b[0m \u001b[0;34m=\u001b[0m \u001b[0mtime\u001b[0m\u001b[0;34m.\u001b[0m\u001b[0mtime\u001b[0m\u001b[0;34m(\u001b[0m\u001b[0;34m)\u001b[0m\u001b[0;34m\u001b[0m\u001b[0;34m\u001b[0m\u001b[0m\n\u001b[0;32m----> 9\u001b[0;31m \u001b[0mtagged_seq\u001b[0m \u001b[0;34m=\u001b[0m \u001b[0mViterbi\u001b[0m\u001b[0;34m(\u001b[0m\u001b[0mtest_untagged_words\u001b[0m\u001b[0;34m)\u001b[0m\u001b[0;34m\u001b[0m\u001b[0;34m\u001b[0m\u001b[0m\n\u001b[0m\u001b[1;32m     10\u001b[0m \u001b[0mend\u001b[0m \u001b[0;34m=\u001b[0m \u001b[0mtime\u001b[0m\u001b[0;34m.\u001b[0m\u001b[0mtime\u001b[0m\u001b[0;34m(\u001b[0m\u001b[0;34m)\u001b[0m\u001b[0;34m\u001b[0m\u001b[0;34m\u001b[0m\u001b[0m\n\u001b[1;32m     11\u001b[0m \u001b[0mdifference\u001b[0m \u001b[0;34m=\u001b[0m \u001b[0mend\u001b[0m\u001b[0;34m-\u001b[0m\u001b[0mstart\u001b[0m\u001b[0;34m\u001b[0m\u001b[0;34m\u001b[0m\u001b[0m\n",
            "\u001b[0;32m<ipython-input-12-ede975c002be>\u001b[0m in \u001b[0;36mViterbi\u001b[0;34m(words, train_bag)\u001b[0m\n\u001b[1;32m     13\u001b[0m \u001b[0;34m\u001b[0m\u001b[0m\n\u001b[1;32m     14\u001b[0m             \u001b[0;31m# compute emission and state probabilities\u001b[0m\u001b[0;34m\u001b[0m\u001b[0;34m\u001b[0m\u001b[0m\n\u001b[0;32m---> 15\u001b[0;31m             \u001b[0memission_p\u001b[0m \u001b[0;34m=\u001b[0m \u001b[0mword_given_tag\u001b[0m\u001b[0;34m(\u001b[0m\u001b[0mwords\u001b[0m\u001b[0;34m[\u001b[0m\u001b[0mkey\u001b[0m\u001b[0;34m]\u001b[0m\u001b[0;34m,\u001b[0m \u001b[0mtag\u001b[0m\u001b[0;34m)\u001b[0m\u001b[0;34m[\u001b[0m\u001b[0;36m0\u001b[0m\u001b[0;34m]\u001b[0m\u001b[0;34m/\u001b[0m\u001b[0mword_given_tag\u001b[0m\u001b[0;34m(\u001b[0m\u001b[0mwords\u001b[0m\u001b[0;34m[\u001b[0m\u001b[0mkey\u001b[0m\u001b[0;34m]\u001b[0m\u001b[0;34m,\u001b[0m \u001b[0mtag\u001b[0m\u001b[0;34m)\u001b[0m\u001b[0;34m[\u001b[0m\u001b[0;36m1\u001b[0m\u001b[0;34m]\u001b[0m\u001b[0;34m\u001b[0m\u001b[0;34m\u001b[0m\u001b[0m\n\u001b[0m\u001b[1;32m     16\u001b[0m             \u001b[0mstate_probability\u001b[0m \u001b[0;34m=\u001b[0m \u001b[0memission_p\u001b[0m \u001b[0;34m*\u001b[0m \u001b[0mtransition_p\u001b[0m\u001b[0;34m\u001b[0m\u001b[0;34m\u001b[0m\u001b[0m\n\u001b[1;32m     17\u001b[0m             \u001b[0mp\u001b[0m\u001b[0;34m.\u001b[0m\u001b[0mappend\u001b[0m\u001b[0;34m(\u001b[0m\u001b[0mstate_probability\u001b[0m\u001b[0;34m)\u001b[0m\u001b[0;34m\u001b[0m\u001b[0;34m\u001b[0m\u001b[0m\n",
            "\u001b[0;32m<ipython-input-8-8d08493eda7d>\u001b[0m in \u001b[0;36mword_given_tag\u001b[0;34m(word, tag, train_bag)\u001b[0m\n\u001b[1;32m      1\u001b[0m \u001b[0;31m# compute Emission Probability\u001b[0m\u001b[0;34m\u001b[0m\u001b[0;34m\u001b[0m\u001b[0m\n\u001b[1;32m      2\u001b[0m \u001b[0;32mdef\u001b[0m \u001b[0mword_given_tag\u001b[0m\u001b[0;34m(\u001b[0m\u001b[0mword\u001b[0m\u001b[0;34m,\u001b[0m \u001b[0mtag\u001b[0m\u001b[0;34m,\u001b[0m \u001b[0mtrain_bag\u001b[0m \u001b[0;34m=\u001b[0m \u001b[0mtrain_tagged_words\u001b[0m\u001b[0;34m)\u001b[0m\u001b[0;34m:\u001b[0m\u001b[0;34m\u001b[0m\u001b[0;34m\u001b[0m\u001b[0m\n\u001b[0;32m----> 3\u001b[0;31m     \u001b[0mtag_list\u001b[0m \u001b[0;34m=\u001b[0m \u001b[0;34m[\u001b[0m\u001b[0mpair\u001b[0m \u001b[0;32mfor\u001b[0m \u001b[0mpair\u001b[0m \u001b[0;32min\u001b[0m \u001b[0mtrain_bag\u001b[0m \u001b[0;32mif\u001b[0m \u001b[0mpair\u001b[0m\u001b[0;34m[\u001b[0m\u001b[0;36m1\u001b[0m\u001b[0;34m]\u001b[0m\u001b[0;34m==\u001b[0m\u001b[0mtag\u001b[0m\u001b[0;34m]\u001b[0m\u001b[0;34m\u001b[0m\u001b[0;34m\u001b[0m\u001b[0m\n\u001b[0m\u001b[1;32m      4\u001b[0m     \u001b[0mcount_tag\u001b[0m \u001b[0;34m=\u001b[0m \u001b[0mlen\u001b[0m\u001b[0;34m(\u001b[0m\u001b[0mtag_list\u001b[0m\u001b[0;34m)\u001b[0m\u001b[0;31m#total number of times the passed tag occurred in train_bag\u001b[0m\u001b[0;34m\u001b[0m\u001b[0;34m\u001b[0m\u001b[0m\n\u001b[1;32m      5\u001b[0m     \u001b[0mw_given_tag_list\u001b[0m \u001b[0;34m=\u001b[0m \u001b[0;34m[\u001b[0m\u001b[0mpair\u001b[0m\u001b[0;34m[\u001b[0m\u001b[0;36m0\u001b[0m\u001b[0;34m]\u001b[0m \u001b[0;32mfor\u001b[0m \u001b[0mpair\u001b[0m \u001b[0;32min\u001b[0m \u001b[0mtag_list\u001b[0m \u001b[0;32mif\u001b[0m \u001b[0mpair\u001b[0m\u001b[0;34m[\u001b[0m\u001b[0;36m0\u001b[0m\u001b[0;34m]\u001b[0m\u001b[0;34m==\u001b[0m\u001b[0mword\u001b[0m\u001b[0;34m]\u001b[0m\u001b[0;34m\u001b[0m\u001b[0;34m\u001b[0m\u001b[0m\n",
            "\u001b[0;32m<ipython-input-8-8d08493eda7d>\u001b[0m in \u001b[0;36m<listcomp>\u001b[0;34m(.0)\u001b[0m\n\u001b[1;32m      1\u001b[0m \u001b[0;31m# compute Emission Probability\u001b[0m\u001b[0;34m\u001b[0m\u001b[0;34m\u001b[0m\u001b[0m\n\u001b[1;32m      2\u001b[0m \u001b[0;32mdef\u001b[0m \u001b[0mword_given_tag\u001b[0m\u001b[0;34m(\u001b[0m\u001b[0mword\u001b[0m\u001b[0;34m,\u001b[0m \u001b[0mtag\u001b[0m\u001b[0;34m,\u001b[0m \u001b[0mtrain_bag\u001b[0m \u001b[0;34m=\u001b[0m \u001b[0mtrain_tagged_words\u001b[0m\u001b[0;34m)\u001b[0m\u001b[0;34m:\u001b[0m\u001b[0;34m\u001b[0m\u001b[0;34m\u001b[0m\u001b[0m\n\u001b[0;32m----> 3\u001b[0;31m     \u001b[0mtag_list\u001b[0m \u001b[0;34m=\u001b[0m \u001b[0;34m[\u001b[0m\u001b[0mpair\u001b[0m \u001b[0;32mfor\u001b[0m \u001b[0mpair\u001b[0m \u001b[0;32min\u001b[0m \u001b[0mtrain_bag\u001b[0m \u001b[0;32mif\u001b[0m \u001b[0mpair\u001b[0m\u001b[0;34m[\u001b[0m\u001b[0;36m1\u001b[0m\u001b[0;34m]\u001b[0m\u001b[0;34m==\u001b[0m\u001b[0mtag\u001b[0m\u001b[0;34m]\u001b[0m\u001b[0;34m\u001b[0m\u001b[0;34m\u001b[0m\u001b[0m\n\u001b[0m\u001b[1;32m      4\u001b[0m     \u001b[0mcount_tag\u001b[0m \u001b[0;34m=\u001b[0m \u001b[0mlen\u001b[0m\u001b[0;34m(\u001b[0m\u001b[0mtag_list\u001b[0m\u001b[0;34m)\u001b[0m\u001b[0;31m#total number of times the passed tag occurred in train_bag\u001b[0m\u001b[0;34m\u001b[0m\u001b[0;34m\u001b[0m\u001b[0m\n\u001b[1;32m      5\u001b[0m     \u001b[0mw_given_tag_list\u001b[0m \u001b[0;34m=\u001b[0m \u001b[0;34m[\u001b[0m\u001b[0mpair\u001b[0m\u001b[0;34m[\u001b[0m\u001b[0;36m0\u001b[0m\u001b[0;34m]\u001b[0m \u001b[0;32mfor\u001b[0m \u001b[0mpair\u001b[0m \u001b[0;32min\u001b[0m \u001b[0mtag_list\u001b[0m \u001b[0;32mif\u001b[0m \u001b[0mpair\u001b[0m\u001b[0;34m[\u001b[0m\u001b[0;36m0\u001b[0m\u001b[0;34m]\u001b[0m\u001b[0;34m==\u001b[0m\u001b[0mword\u001b[0m\u001b[0;34m]\u001b[0m\u001b[0;34m\u001b[0m\u001b[0;34m\u001b[0m\u001b[0m\n",
            "\u001b[0;31mKeyboardInterrupt\u001b[0m: "
          ]
        }
      ]
    },
    {
      "cell_type": "code",
      "source": [
        "#To improve the performance,we specify a rule base tagger for unknown words\n",
        "# specify patterns for tagging\n",
        "patterns = [\n",
        "    (r'.*ing$', 'VERB'),              # gerund\n",
        "    (r'.*ed$', 'VERB'),               # past tense\n",
        "    (r'.*es$', 'VERB'),               # verb\n",
        "    (r'.*\\'s$', 'NOUN'),              # possessive nouns\n",
        "    (r'.*s$', 'NOUN'),                # plural nouns\n",
        "    (r'\\*T?\\*?-[0-9]+$', 'X'),        # X\n",
        "    (r'^-?[0-9]+(.[0-9]+)?$', 'NUM'), # cardinal numbers\n",
        "    (r'.*', 'NOUN')                   # nouns\n",
        "]\n",
        "\n",
        "# rule based tagger\n",
        "rule_based_tagger = nltk.RegexpTagger(patterns)"
      ],
      "metadata": {
        "id": "Kn77ZH8DnyGw"
      },
      "execution_count": 33,
      "outputs": []
    },
    {
      "cell_type": "code",
      "source": [
        "#modified Viterbi to include rule based tagger in it\n",
        "def Viterbi_rule_based(words, train_bag = train_tagged_words):\n",
        "    state = []\n",
        "    T = list(set([pair[1] for pair in train_bag]))\n",
        "\n",
        "    for key, word in enumerate(words):\n",
        "        #initialise list of probability column for a given observation\n",
        "        p = []\n",
        "        for tag in T:\n",
        "            if key == 0:\n",
        "                transition_p = tags_df.loc['.', tag]\n",
        "            else:\n",
        "                transition_p = tags_df.loc[state[-1], tag]\n",
        "\n",
        "            # compute emission and state probabilities\n",
        "            emission_p = word_given_tag(words[key], tag)[0]/word_given_tag(words[key], tag)[1]\n",
        "            state_probability = emission_p * transition_p\n",
        "            p.append(state_probability)\n",
        "\n",
        "        pmax = max(p)\n",
        "        state_max = rule_based_tagger.tag([word])[0][1]\n",
        "\n",
        "\n",
        "        if(pmax==0):\n",
        "            state_max = rule_based_tagger.tag([word])[0][1] # assign based on rule based tagger\n",
        "        else:\n",
        "            if state_max != 'X':\n",
        "                # getting state for which probability is maximum\n",
        "                state_max = T[p.index(pmax)]\n",
        "\n",
        "\n",
        "        state.append(state_max)\n",
        "    return list(zip(words, state))"
      ],
      "metadata": {
        "id": "RAMwishdnzUn"
      },
      "execution_count": 34,
      "outputs": []
    },
    {
      "cell_type": "code",
      "source": [
        "#test accuracy on subset of test data\n",
        "start = time.time()\n",
        "tagged_seq = Viterbi_rule_based(test_tagged_words)\n",
        "end = time.time()\n",
        "difference = end-start\n",
        "\n",
        "print(\"Time taken in seconds: \", difference)\n",
        "\n",
        "# accuracy\n",
        "check = [i for i, j in zip(tagged_seq, test_run_base) if i == j]\n",
        "\n",
        "accuracy = len(check)/len(tagged_seq)\n",
        "print('Viterbi Algorithm Accuracy: ',accuracy*100)"
      ],
      "metadata": {
        "colab": {
          "base_uri": "https://localhost:8080/"
        },
        "id": "uyEjaPaIn0kz",
        "outputId": "016900ee-2f36-48a2-9a45-adabdabb5cfd"
      },
      "execution_count": 35,
      "outputs": [
        {
          "output_type": "stream",
          "name": "stdout",
          "text": [
            "Time taken in seconds:  45.22967576980591\n",
            "Viterbi Algorithm Accuracy:  97.1291866028708\n"
          ]
        }
      ]
    },
    {
      "cell_type": "code",
      "source": [
        "#Check how a sentence is tagged by the two POS taggers\n",
        "#and compare them\n",
        "test_sent=\"Will can see Marry\"\n",
        "pred_tags_rule=Viterbi_rule_based(test_sent.split())\n",
        "pred_tags_withoutRules= Viterbi(test_sent.split())\n",
        "print(pred_tags_rule)\n",
        "print(pred_tags_withoutRules)\n",
        "#Will and Marry are tagged as NUM as they are unknown words for Viterbi Algorithm"
      ],
      "metadata": {
        "colab": {
          "base_uri": "https://localhost:8080/"
        },
        "id": "5ZoC1zYsn1z5",
        "outputId": "99e96f07-f9ae-4c6a-8d0a-6e35721b5e39"
      },
      "execution_count": 37,
      "outputs": [
        {
          "output_type": "stream",
          "name": "stdout",
          "text": [
            "[('Will', 'NOUN'), ('can', 'VERB'), ('see', 'VERB'), ('Marry', 'NOUN')]\n",
            "[('Will', 'PRT'), ('can', 'VERB'), ('see', 'VERB'), ('Marry', 'PRT')]\n"
          ]
        }
      ]
    },
    {
      "cell_type": "code",
      "source": [
        "#Check how a sentence is tagged by the two POS taggers\n",
        "#and compare them\n",
        "test_sent=\"In a quaint town nestled between rolling hills and babbling brooks, there lived a curious young girl named Lily. With a mop of unruly curls and a perpetually inquisitive gleam in her hazel eyes, Lily spent her days exploring the nooks and crannies of the enchanted forest that bordered her home. One day, as the sun dipped low in the sky, she stumbled upon a mysterious, ancient book hidden beneath the gnarled roots of an ancient oak tree. Little did she know that this chance discovery would set in motion a series of magical adventures that would unveil the secrets of the long-forgotten realm she was about to enter.\"\n",
        "pred_tags_rule=Viterbi_rule_based(test_sent.split())\n",
        "pred_tags_withoutRules= Viterbi(test_sent.split())\n",
        "print(pred_tags_rule)\n",
        "print(pred_tags_withoutRules)"
      ],
      "metadata": {
        "colab": {
          "base_uri": "https://localhost:8080/"
        },
        "id": "Qdr1TAnNn3cT",
        "outputId": "eca6539c-3946-40c7-e2f7-fd525cfbb2c1"
      },
      "execution_count": 38,
      "outputs": [
        {
          "output_type": "stream",
          "name": "stdout",
          "text": [
            "[('In', 'ADP'), ('a', 'DET'), ('quaint', 'NOUN'), ('town', 'NOUN'), ('nestled', 'VERB'), ('between', 'ADP'), ('rolling', 'VERB'), ('hills', 'NOUN'), ('and', 'CONJ'), ('babbling', 'VERB'), ('brooks,', 'NOUN'), ('there', 'DET'), ('lived', 'VERB'), ('a', 'DET'), ('curious', 'NOUN'), ('young', 'ADJ'), ('girl', 'NOUN'), ('named', 'VERB'), ('Lily.', 'NOUN'), ('With', 'ADP'), ('a', 'DET'), ('mop', 'NOUN'), ('of', 'ADP'), ('unruly', 'NOUN'), ('curls', 'NOUN'), ('and', 'CONJ'), ('a', 'DET'), ('perpetually', 'NOUN'), ('inquisitive', 'NOUN'), ('gleam', 'NOUN'), ('in', 'ADP'), ('her', 'PRON'), ('hazel', 'NOUN'), ('eyes,', 'NOUN'), ('Lily', 'NOUN'), ('spent', 'VERB'), ('her', 'PRON'), ('days', 'NOUN'), ('exploring', 'VERB'), ('the', 'DET'), ('nooks', 'NOUN'), ('and', 'CONJ'), ('crannies', 'VERB'), ('of', 'ADP'), ('the', 'DET'), ('enchanted', 'VERB'), ('forest', 'NOUN'), ('that', 'ADP'), ('bordered', 'VERB'), ('her', 'PRON'), ('home.', 'NOUN'), ('One', 'NUM'), ('day,', 'NOUN'), ('as', 'ADP'), ('the', 'DET'), ('sun', 'NOUN'), ('dipped', 'VERB'), ('low', 'ADJ'), ('in', 'ADP'), ('the', 'DET'), ('sky,', 'NOUN'), ('she', 'PRON'), ('stumbled', 'VERB'), ('upon', 'ADP'), ('a', 'DET'), ('mysterious,', 'NOUN'), ('ancient', 'ADJ'), ('book', 'NOUN'), ('hidden', 'VERB'), ('beneath', 'NOUN'), ('the', 'DET'), ('gnarled', 'VERB'), ('roots', 'NOUN'), ('of', 'ADP'), ('an', 'DET'), ('ancient', 'ADJ'), ('oak', 'NOUN'), ('tree.', 'NOUN'), ('Little', 'NOUN'), ('did', 'VERB'), ('she', 'PRON'), ('know', 'VERB'), ('that', 'ADP'), ('this', 'DET'), ('chance', 'NOUN'), ('discovery', 'NOUN'), ('would', 'VERB'), ('set', 'VERB'), ('in', 'ADP'), ('motion', 'NOUN'), ('a', 'DET'), ('series', 'NOUN'), ('of', 'ADP'), ('magical', 'NOUN'), ('adventures', 'VERB'), ('that', 'ADP'), ('would', 'VERB'), ('unveil', 'VERB'), ('the', 'DET'), ('secrets', 'NOUN'), ('of', 'ADP'), ('the', 'DET'), ('long-forgotten', 'NOUN'), ('realm', 'NOUN'), ('she', 'PRON'), ('was', 'VERB'), ('about', 'ADP'), ('to', 'PRT'), ('enter.', 'NOUN')]\n",
            "[('In', 'ADP'), ('a', 'DET'), ('quaint', 'PRT'), ('town', 'NOUN'), ('nestled', 'PRT'), ('between', 'ADP'), ('rolling', 'VERB'), ('hills', 'PRT'), ('and', 'CONJ'), ('babbling', 'PRT'), ('brooks,', 'PRT'), ('there', 'DET'), ('lived', 'PRT'), ('a', 'DET'), ('curious', 'PRT'), ('young', 'ADJ'), ('girl', 'NOUN'), ('named', 'VERB'), ('Lily.', 'PRT'), ('With', 'ADP'), ('a', 'DET'), ('mop', 'PRT'), ('of', 'ADP'), ('unruly', 'PRT'), ('curls', 'PRT'), ('and', 'CONJ'), ('a', 'DET'), ('perpetually', 'PRT'), ('inquisitive', 'PRT'), ('gleam', 'PRT'), ('in', 'ADP'), ('her', 'PRON'), ('hazel', 'PRT'), ('eyes,', 'PRT'), ('Lily', 'PRT'), ('spent', 'VERB'), ('her', 'PRON'), ('days', 'NOUN'), ('exploring', 'PRT'), ('the', 'DET'), ('nooks', 'PRT'), ('and', 'CONJ'), ('crannies', 'PRT'), ('of', 'ADP'), ('the', 'DET'), ('enchanted', 'PRT'), ('forest', 'PRT'), ('that', 'DET'), ('bordered', 'PRT'), ('her', 'PRON'), ('home.', 'PRT'), ('One', 'NUM'), ('day,', 'PRT'), ('as', 'ADP'), ('the', 'DET'), ('sun', 'PRT'), ('dipped', 'PRT'), ('low', 'ADJ'), ('in', 'ADP'), ('the', 'DET'), ('sky,', 'PRT'), ('she', 'PRON'), ('stumbled', 'PRT'), ('upon', 'ADP'), ('a', 'DET'), ('mysterious,', 'PRT'), ('ancient', 'ADJ'), ('book', 'NOUN'), ('hidden', 'VERB'), ('beneath', 'PRT'), ('the', 'DET'), ('gnarled', 'PRT'), ('roots', 'PRT'), ('of', 'ADP'), ('an', 'DET'), ('ancient', 'ADJ'), ('oak', 'PRT'), ('tree.', 'PRT'), ('Little', 'NOUN'), ('did', 'VERB'), ('she', 'PRON'), ('know', 'VERB'), ('that', 'ADP'), ('this', 'DET'), ('chance', 'NOUN'), ('discovery', 'PRT'), ('would', 'VERB'), ('set', 'VERB'), ('in', 'ADP'), ('motion', 'NOUN'), ('a', 'DET'), ('series', 'NOUN'), ('of', 'ADP'), ('magical', 'PRT'), ('adventures', 'PRT'), ('that', 'DET'), ('would', 'VERB'), ('unveil', 'VERB'), ('the', 'DET'), ('secrets', 'PRT'), ('of', 'ADP'), ('the', 'DET'), ('long-forgotten', 'PRT'), ('realm', 'PRT'), ('she', 'PRON'), ('was', 'VERB'), ('about', 'ADP'), ('to', 'PRT'), ('enter.', 'PRT')]\n"
          ]
        }
      ]
    },
    {
      "cell_type": "code",
      "source": [],
      "metadata": {
        "id": "6Q_HupjzuFXt"
      },
      "execution_count": null,
      "outputs": []
    }
  ]
}