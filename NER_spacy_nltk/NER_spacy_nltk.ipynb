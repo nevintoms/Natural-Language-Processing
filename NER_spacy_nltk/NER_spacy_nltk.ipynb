{
  "nbformat": 4,
  "nbformat_minor": 0,
  "metadata": {
    "colab": {
      "provenance": []
    },
    "kernelspec": {
      "name": "python3",
      "display_name": "Python 3"
    },
    "language_info": {
      "name": "python"
    }
  },
  "cells": [
    {
      "cell_type": "code",
      "source": [
        "nltk.download('punkt')"
      ],
      "metadata": {
        "colab": {
          "base_uri": "https://localhost:8080/"
        },
        "id": "Tg0hl4nd2Jx4",
        "outputId": "45ec810b-ebd5-414b-9e20-8d7898a4b7f5"
      },
      "execution_count": 2,
      "outputs": [
        {
          "output_type": "stream",
          "name": "stderr",
          "text": [
            "[nltk_data] Downloading package punkt to /root/nltk_data...\n",
            "[nltk_data]   Unzipping tokenizers/punkt.zip.\n"
          ]
        },
        {
          "output_type": "execute_result",
          "data": {
            "text/plain": [
              "True"
            ]
          },
          "metadata": {},
          "execution_count": 2
        }
      ]
    },
    {
      "cell_type": "code",
      "source": [
        "nltk.download('averaged_perceptron_tagger')"
      ],
      "metadata": {
        "colab": {
          "base_uri": "https://localhost:8080/"
        },
        "id": "uk4PY4MM2NZq",
        "outputId": "e9b51bfa-2cd6-47ed-8875-35d56b9a2bdc"
      },
      "execution_count": 4,
      "outputs": [
        {
          "output_type": "stream",
          "name": "stderr",
          "text": [
            "[nltk_data] Downloading package averaged_perceptron_tagger to\n",
            "[nltk_data]     /root/nltk_data...\n",
            "[nltk_data]   Unzipping taggers/averaged_perceptron_tagger.zip.\n"
          ]
        },
        {
          "output_type": "execute_result",
          "data": {
            "text/plain": [
              "True"
            ]
          },
          "metadata": {},
          "execution_count": 4
        }
      ]
    },
    {
      "cell_type": "code",
      "source": [
        "nltk.download('maxent_ne_chunker')"
      ],
      "metadata": {
        "colab": {
          "base_uri": "https://localhost:8080/"
        },
        "id": "-gn5lJya2PoQ",
        "outputId": "f626d5ec-e209-451e-8f28-a369f9f4bac8"
      },
      "execution_count": 6,
      "outputs": [
        {
          "output_type": "stream",
          "name": "stderr",
          "text": [
            "[nltk_data] Downloading package maxent_ne_chunker to\n",
            "[nltk_data]     /root/nltk_data...\n",
            "[nltk_data]   Unzipping chunkers/maxent_ne_chunker.zip.\n"
          ]
        },
        {
          "output_type": "execute_result",
          "data": {
            "text/plain": [
              "True"
            ]
          },
          "metadata": {},
          "execution_count": 6
        }
      ]
    },
    {
      "cell_type": "code",
      "source": [
        "nltk.download('words')"
      ],
      "metadata": {
        "colab": {
          "base_uri": "https://localhost:8080/"
        },
        "id": "9fdettgb2SU9",
        "outputId": "a2651d7b-2daf-4bcb-99a4-17a55a7117be"
      },
      "execution_count": 8,
      "outputs": [
        {
          "output_type": "stream",
          "name": "stderr",
          "text": [
            "[nltk_data] Downloading package words to /root/nltk_data...\n",
            "[nltk_data]   Unzipping corpora/words.zip.\n"
          ]
        },
        {
          "output_type": "execute_result",
          "data": {
            "text/plain": [
              "True"
            ]
          },
          "metadata": {},
          "execution_count": 8
        }
      ]
    },
    {
      "cell_type": "code",
      "execution_count": 15,
      "metadata": {
        "colab": {
          "base_uri": "https://localhost:8080/"
        },
        "id": "1o3qTMZi2AT7",
        "outputId": "7bca175c-6841-493b-8e46-9894295ec8b7"
      },
      "outputs": [
        {
          "output_type": "stream",
          "name": "stdout",
          "text": [
            "[('NASA', 'NNP'), ('awarded', 'VBD'), ('Elon', 'NNP'), ('Musk', 'NNP'), ('’', 'NNP'), ('s', 'VBD'), ('SpaceX', 'NNP'), ('a', 'DT'), ('$', '$'), ('2.9', 'CD'), ('billion', 'CD'), ('contract', 'NN'), ('to', 'TO'), ('build', 'VB'), ('the', 'DT'), ('lunar', 'NN'), ('lander', 'NN'), ('.', '.')]\n",
            "(S\n",
            "  (ORGANIZATION NASA/NNP)\n",
            "  awarded/VBD\n",
            "  (PERSON Elon/NNP Musk/NNP)\n",
            "  ’/NNP\n",
            "  s/VBD\n",
            "  (ORGANIZATION SpaceX/NNP)\n",
            "  a/DT\n",
            "  $/$\n",
            "  2.9/CD\n",
            "  billion/CD\n",
            "  contract/NN\n",
            "  to/TO\n",
            "  build/VB\n",
            "  the/DT\n",
            "  lunar/NN\n",
            "  lander/NN\n",
            "  ./.)\n"
          ]
        }
      ],
      "source": [
        "import nltk\n",
        "from nltk import word_tokenize,pos_tag\n",
        "\n",
        "text = \"NASA awarded Elon Musk’s SpaceX a $2.9 billion contract to build the lunar lander.\"\n",
        "tokens = word_tokenize(text) # Tokenizing words in the text\n",
        "tag=pos_tag(tokens) # Finding the POS tags for the tokens\n",
        "print(tag)\n",
        "\n",
        "ne_tree = nltk.ne_chunk(tag) #Finding the NER tag using the NLTK library.\n",
        "print(ne_tree)"
      ]
    },
    {
      "cell_type": "code",
      "source": [
        "nltk.download('treebank')"
      ],
      "metadata": {
        "colab": {
          "base_uri": "https://localhost:8080/"
        },
        "id": "rIUclcxh2bh6",
        "outputId": "9546062f-996b-4994-c0d9-ecba66f1f47b"
      },
      "execution_count": 12,
      "outputs": [
        {
          "output_type": "stream",
          "name": "stderr",
          "text": [
            "[nltk_data] Downloading package treebank to /root/nltk_data...\n",
            "[nltk_data]   Unzipping corpora/treebank.zip.\n"
          ]
        },
        {
          "output_type": "execute_result",
          "data": {
            "text/plain": [
              "True"
            ]
          },
          "metadata": {},
          "execution_count": 12
        }
      ]
    },
    {
      "cell_type": "code",
      "source": [
        "sent = nltk.corpus.treebank.tagged_sents() # Taking the tagged sentences from the treebank.\n",
        "print(nltk.ne_chunk(sent[0])) # Performing the NER tagging using the above sent."
      ],
      "metadata": {
        "colab": {
          "base_uri": "https://localhost:8080/"
        },
        "id": "on0nDlgr2Ecd",
        "outputId": "f0f4f6d2-7b8b-419d-cfce-48b5b31ada32"
      },
      "execution_count": 13,
      "outputs": [
        {
          "output_type": "stream",
          "name": "stdout",
          "text": [
            "(S\n",
            "  (PERSON Pierre/NNP)\n",
            "  (ORGANIZATION Vinken/NNP)\n",
            "  ,/,\n",
            "  61/CD\n",
            "  years/NNS\n",
            "  old/JJ\n",
            "  ,/,\n",
            "  will/MD\n",
            "  join/VB\n",
            "  the/DT\n",
            "  board/NN\n",
            "  as/IN\n",
            "  a/DT\n",
            "  nonexecutive/JJ\n",
            "  director/NN\n",
            "  Nov./NNP\n",
            "  29/CD\n",
            "  ./.)\n"
          ]
        }
      ]
    },
    {
      "cell_type": "code",
      "source": [
        "import spacy\n",
        "nlp = spacy.load(\"en_core_web_sm\")\n",
        "\n",
        "doc = nlp(\"NASA awarded Elon Musk’s SpaceX a $2.9 billion contract to build the lunar lander.\")\n",
        "for token in doc:\n",
        "    print(token.text, token.ent_iob_, token.ent_type_) # Finding the IOB of each entity and type(NER) using spacy library."
      ],
      "metadata": {
        "colab": {
          "base_uri": "https://localhost:8080/"
        },
        "id": "E3wEuWxn2Z8r",
        "outputId": "26a203e1-0a33-469f-9cd0-33e69b82335f"
      },
      "execution_count": 14,
      "outputs": [
        {
          "output_type": "stream",
          "name": "stdout",
          "text": [
            "NASA B ORG\n",
            "awarded O \n",
            "Elon B PERSON\n",
            "Musk I PERSON\n",
            "’s I PERSON\n",
            "SpaceX O \n",
            "a O \n",
            "$ B MONEY\n",
            "2.9 I MONEY\n",
            "billion I MONEY\n",
            "contract O \n",
            "to O \n",
            "build O \n",
            "the O \n",
            "lunar O \n",
            "lander O \n",
            ". O \n"
          ]
        }
      ]
    },
    {
      "cell_type": "code",
      "source": [
        "import nltk\n",
        "from nltk import word_tokenize,pos_tag\n",
        "# Random Text\n",
        "text = \"In a quaint village nestled between rolling hills, a curious young inventor named Emma discovered an old, dusty book in her grandfather's attic. Intrigued, she deciphered its cryptic pages and stumbled upon a forgotten formula for a magical elixir. Determined to test its authenticity, Emma gathered rare ingredients from the mystical forest nearby. As she mixed the concoction under the shimmering moonlight, a soft glow enveloped her surroundings. To her amazement, the elixir brought to life a forgotten garden filled with vibrant, talking flowers and wise, ancient trees. Emma's once ordinary world was now tinged with enchantment, and she realized that her journey had just begun in this magical realm of wonders\"\n",
        "tokens = word_tokenize(text) # Tokenizing words in the text\n",
        "tag=pos_tag(tokens) # Finding the POS tags for the tokens\n",
        "print(tag)\n",
        "\n",
        "ne_tree = nltk.ne_chunk(tag) #Finding the NER tag using the NLTK library.\n",
        "print(ne_tree)"
      ],
      "metadata": {
        "colab": {
          "base_uri": "https://localhost:8080/"
        },
        "id": "dct-pm2w2fJm",
        "outputId": "27f337f4-3c88-4f65-9611-cb35b426fa27"
      },
      "execution_count": 18,
      "outputs": [
        {
          "output_type": "stream",
          "name": "stdout",
          "text": [
            "[('In', 'IN'), ('a', 'DT'), ('quaint', 'NN'), ('village', 'NN'), ('nestled', 'VBD'), ('between', 'IN'), ('rolling', 'VBG'), ('hills', 'NNS'), (',', ','), ('a', 'DT'), ('curious', 'JJ'), ('young', 'JJ'), ('inventor', 'NN'), ('named', 'VBN'), ('Emma', 'NNP'), ('discovered', 'VBD'), ('an', 'DT'), ('old', 'JJ'), (',', ','), ('dusty', 'JJ'), ('book', 'NN'), ('in', 'IN'), ('her', 'PRP$'), ('grandfather', 'NN'), (\"'s\", 'POS'), ('attic', 'JJ'), ('.', '.'), ('Intrigued', 'VBN'), (',', ','), ('she', 'PRP'), ('deciphered', 'VBD'), ('its', 'PRP$'), ('cryptic', 'JJ'), ('pages', 'NNS'), ('and', 'CC'), ('stumbled', 'VBD'), ('upon', 'IN'), ('a', 'DT'), ('forgotten', 'JJ'), ('formula', 'NN'), ('for', 'IN'), ('a', 'DT'), ('magical', 'JJ'), ('elixir', 'NN'), ('.', '.'), ('Determined', 'VBN'), ('to', 'TO'), ('test', 'VB'), ('its', 'PRP$'), ('authenticity', 'NN'), (',', ','), ('Emma', 'NNP'), ('gathered', 'VBD'), ('rare', 'JJ'), ('ingredients', 'NNS'), ('from', 'IN'), ('the', 'DT'), ('mystical', 'JJ'), ('forest', 'NN'), ('nearby', 'RB'), ('.', '.'), ('As', 'IN'), ('she', 'PRP'), ('mixed', 'VBD'), ('the', 'DT'), ('concoction', 'NN'), ('under', 'IN'), ('the', 'DT'), ('shimmering', 'NN'), ('moonlight', 'NN'), (',', ','), ('a', 'DT'), ('soft', 'JJ'), ('glow', 'NN'), ('enveloped', 'VBD'), ('her', 'PRP$'), ('surroundings', 'NNS'), ('.', '.'), ('To', 'TO'), ('her', 'PRP$'), ('amazement', 'NN'), (',', ','), ('the', 'DT'), ('elixir', 'NN'), ('brought', 'VBD'), ('to', 'TO'), ('life', 'NN'), ('a', 'DT'), ('forgotten', 'JJ'), ('garden', 'NN'), ('filled', 'VBN'), ('with', 'IN'), ('vibrant', 'NN'), (',', ','), ('talking', 'VBG'), ('flowers', 'NNS'), ('and', 'CC'), ('wise', 'NN'), (',', ','), ('ancient', 'JJ'), ('trees', 'NNS'), ('.', '.'), ('Emma', 'NNP'), (\"'s\", 'POS'), ('once', 'RB'), ('ordinary', 'JJ'), ('world', 'NN'), ('was', 'VBD'), ('now', 'RB'), ('tinged', 'VBN'), ('with', 'IN'), ('enchantment', 'NN'), (',', ','), ('and', 'CC'), ('she', 'PRP'), ('realized', 'VBD'), ('that', 'IN'), ('her', 'PRP$'), ('journey', 'NN'), ('had', 'VBD'), ('just', 'RB'), ('begun', 'VBN'), ('in', 'IN'), ('this', 'DT'), ('magical', 'JJ'), ('realm', 'NN'), ('of', 'IN'), ('wonders', 'NNS')]\n",
            "(S\n",
            "  In/IN\n",
            "  a/DT\n",
            "  quaint/NN\n",
            "  village/NN\n",
            "  nestled/VBD\n",
            "  between/IN\n",
            "  rolling/VBG\n",
            "  hills/NNS\n",
            "  ,/,\n",
            "  a/DT\n",
            "  curious/JJ\n",
            "  young/JJ\n",
            "  inventor/NN\n",
            "  named/VBN\n",
            "  (PERSON Emma/NNP)\n",
            "  discovered/VBD\n",
            "  an/DT\n",
            "  old/JJ\n",
            "  ,/,\n",
            "  dusty/JJ\n",
            "  book/NN\n",
            "  in/IN\n",
            "  her/PRP$\n",
            "  grandfather/NN\n",
            "  's/POS\n",
            "  attic/JJ\n",
            "  ./.\n",
            "  Intrigued/VBN\n",
            "  ,/,\n",
            "  she/PRP\n",
            "  deciphered/VBD\n",
            "  its/PRP$\n",
            "  cryptic/JJ\n",
            "  pages/NNS\n",
            "  and/CC\n",
            "  stumbled/VBD\n",
            "  upon/IN\n",
            "  a/DT\n",
            "  forgotten/JJ\n",
            "  formula/NN\n",
            "  for/IN\n",
            "  a/DT\n",
            "  magical/JJ\n",
            "  elixir/NN\n",
            "  ./.\n",
            "  Determined/VBN\n",
            "  to/TO\n",
            "  test/VB\n",
            "  its/PRP$\n",
            "  authenticity/NN\n",
            "  ,/,\n",
            "  (PERSON Emma/NNP)\n",
            "  gathered/VBD\n",
            "  rare/JJ\n",
            "  ingredients/NNS\n",
            "  from/IN\n",
            "  the/DT\n",
            "  mystical/JJ\n",
            "  forest/NN\n",
            "  nearby/RB\n",
            "  ./.\n",
            "  As/IN\n",
            "  she/PRP\n",
            "  mixed/VBD\n",
            "  the/DT\n",
            "  concoction/NN\n",
            "  under/IN\n",
            "  the/DT\n",
            "  shimmering/NN\n",
            "  moonlight/NN\n",
            "  ,/,\n",
            "  a/DT\n",
            "  soft/JJ\n",
            "  glow/NN\n",
            "  enveloped/VBD\n",
            "  her/PRP$\n",
            "  surroundings/NNS\n",
            "  ./.\n",
            "  To/TO\n",
            "  her/PRP$\n",
            "  amazement/NN\n",
            "  ,/,\n",
            "  the/DT\n",
            "  elixir/NN\n",
            "  brought/VBD\n",
            "  to/TO\n",
            "  life/NN\n",
            "  a/DT\n",
            "  forgotten/JJ\n",
            "  garden/NN\n",
            "  filled/VBN\n",
            "  with/IN\n",
            "  vibrant/NN\n",
            "  ,/,\n",
            "  talking/VBG\n",
            "  flowers/NNS\n",
            "  and/CC\n",
            "  wise/NN\n",
            "  ,/,\n",
            "  ancient/JJ\n",
            "  trees/NNS\n",
            "  ./.\n",
            "  (PERSON Emma/NNP)\n",
            "  's/POS\n",
            "  once/RB\n",
            "  ordinary/JJ\n",
            "  world/NN\n",
            "  was/VBD\n",
            "  now/RB\n",
            "  tinged/VBN\n",
            "  with/IN\n",
            "  enchantment/NN\n",
            "  ,/,\n",
            "  and/CC\n",
            "  she/PRP\n",
            "  realized/VBD\n",
            "  that/IN\n",
            "  her/PRP$\n",
            "  journey/NN\n",
            "  had/VBD\n",
            "  just/RB\n",
            "  begun/VBN\n",
            "  in/IN\n",
            "  this/DT\n",
            "  magical/JJ\n",
            "  realm/NN\n",
            "  of/IN\n",
            "  wonders/NNS)\n"
          ]
        }
      ]
    },
    {
      "cell_type": "code",
      "source": [
        "import spacy\n",
        "nlp = spacy.load(\"en_core_web_sm\")\n",
        "# Random Text\n",
        "doc = nlp(\"In a quaint village nestled between rolling hills, a curious young inventor named Emma discovered an old, dusty book in her grandfather's attic. Intrigued, she deciphered its cryptic pages and stumbled upon a forgotten formula for a magical elixir. Determined to test its authenticity, Emma gathered rare ingredients from the mystical forest nearby. As she mixed the concoction under the shimmering moonlight, a soft glow enveloped her surroundings. To her amazement, the elixir brought to life a forgotten garden filled with vibrant, talking flowers and wise, ancient trees. Emma's once ordinary world was now tinged with enchantment, and she realized that her journey had just begun in this magical realm of wonders\")\n",
        "for token in doc:\n",
        "    print(token.text, token.ent_iob_, token.ent_type_) # Finding the IOB of each entity and type(NER) using spacy library."
      ],
      "metadata": {
        "colab": {
          "base_uri": "https://localhost:8080/"
        },
        "id": "kJ-u9o6G508X",
        "outputId": "b3b8afb1-f9b1-4347-981e-664a01ffdf66"
      },
      "execution_count": 19,
      "outputs": [
        {
          "output_type": "stream",
          "name": "stdout",
          "text": [
            "In O \n",
            "a O \n",
            "quaint O \n",
            "village O \n",
            "nestled O \n",
            "between O \n",
            "rolling O \n",
            "hills O \n",
            ", O \n",
            "a O \n",
            "curious O \n",
            "young O \n",
            "inventor O \n",
            "named O \n",
            "Emma B PERSON\n",
            "discovered O \n",
            "an O \n",
            "old O \n",
            ", O \n",
            "dusty O \n",
            "book O \n",
            "in O \n",
            "her O \n",
            "grandfather O \n",
            "'s O \n",
            "attic O \n",
            ". O \n",
            "Intrigued O \n",
            ", O \n",
            "she O \n",
            "deciphered O \n",
            "its O \n",
            "cryptic O \n",
            "pages O \n",
            "and O \n",
            "stumbled O \n",
            "upon O \n",
            "a O \n",
            "forgotten O \n",
            "formula O \n",
            "for O \n",
            "a O \n",
            "magical O \n",
            "elixir O \n",
            ". O \n",
            "Determined O \n",
            "to O \n",
            "test O \n",
            "its O \n",
            "authenticity O \n",
            ", O \n",
            "Emma B PERSON\n",
            "gathered O \n",
            "rare O \n",
            "ingredients O \n",
            "from O \n",
            "the O \n",
            "mystical O \n",
            "forest O \n",
            "nearby O \n",
            ". O \n",
            "As O \n",
            "she O \n",
            "mixed O \n",
            "the O \n",
            "concoction O \n",
            "under O \n",
            "the O \n",
            "shimmering O \n",
            "moonlight O \n",
            ", O \n",
            "a O \n",
            "soft O \n",
            "glow O \n",
            "enveloped O \n",
            "her O \n",
            "surroundings O \n",
            ". O \n",
            "To O \n",
            "her O \n",
            "amazement O \n",
            ", O \n",
            "the O \n",
            "elixir O \n",
            "brought O \n",
            "to O \n",
            "life O \n",
            "a O \n",
            "forgotten O \n",
            "garden O \n",
            "filled O \n",
            "with O \n",
            "vibrant O \n",
            ", O \n",
            "talking O \n",
            "flowers O \n",
            "and O \n",
            "wise O \n",
            ", O \n",
            "ancient O \n",
            "trees O \n",
            ". O \n",
            "Emma B PERSON\n",
            "'s O \n",
            "once O \n",
            "ordinary O \n",
            "world O \n",
            "was O \n",
            "now O \n",
            "tinged O \n",
            "with O \n",
            "enchantment O \n",
            ", O \n",
            "and O \n",
            "she O \n",
            "realized O \n",
            "that O \n",
            "her O \n",
            "journey O \n",
            "had O \n",
            "just O \n",
            "begun O \n",
            "in O \n",
            "this O \n",
            "magical O \n",
            "realm O \n",
            "of O \n",
            "wonders O \n"
          ]
        }
      ]
    },
    {
      "cell_type": "code",
      "source": [],
      "metadata": {
        "id": "2uUbp-id55oB"
      },
      "execution_count": null,
      "outputs": []
    }
  ]
}