{
  "nbformat": 4,
  "nbformat_minor": 0,
  "metadata": {
    "colab": {
      "provenance": []
    },
    "kernelspec": {
      "name": "python3",
      "display_name": "Python 3"
    },
    "language_info": {
      "name": "python"
    }
  },
  "cells": [
    {
      "cell_type": "code",
      "execution_count": 11,
      "metadata": {
        "id": "sn-WqmWGo55I"
      },
      "outputs": [],
      "source": [
        "import pandas as pd"
      ]
    },
    {
      "cell_type": "code",
      "source": [
        "# Steps to make tweet.csv to a proper dataframe\n",
        "\n",
        "df = pd.read_csv(\"tweets.csv\")\n",
        "cols = df.columns[0].split(\",\")\n",
        "df = df.iloc[:,0].str.split(',', expand=True)\n",
        "df.columns = cols\n",
        "df.head()"
      ],
      "metadata": {
        "id": "__a50_c_p35d",
        "colab": {
          "base_uri": "https://localhost:8080/",
          "height": 293
        },
        "outputId": "9f0fd5dd-bbb3-42ed-e09d-6dded9a34333"
      },
      "execution_count": 23,
      "outputs": [
        {
          "output_type": "execute_result",
          "data": {
            "text/plain": [
              "               source                                               text  \\\n",
              "0  Twitter for iPhone                     LOSER! https://t.co/p5imhMJqS1   \n",
              "1  Twitter for iPhone  Most of the money raised by the RINO losers of...   \n",
              "2  Twitter for iPhone  ....because they don’t know how to win and the...   \n",
              "3  Twitter for iPhone  ....lost for Evan “McMuffin” McMullin (to me)....   \n",
              "4  Twitter for iPhone  ....get even for all of their many failures. Y...   \n",
              "\n",
              "            created_at retweet_count favorite_count is_retweet  \\\n",
              "0  05-18-2020 14:55:14         32295         135445      false   \n",
              "1  05-05-2020 18:18:26         19706          82425      false   \n",
              "2  05-05-2020 04:46:34         12665          56868      false   \n",
              "3  05-05-2020 04:46:34         13855          62268      false   \n",
              "4  05-05-2020 04:46:33          8122          33261      false   \n",
              "\n",
              "                id_str  \n",
              "0  1262396333064892416  \n",
              "1  1257736426206031874  \n",
              "2  1257532112233803782  \n",
              "3  1257532114666508291  \n",
              "4  1257532110971318274  "
            ],
            "text/html": [
              "\n",
              "  <div id=\"df-3a6421d5-d83c-42f4-8f7c-80089709585f\" class=\"colab-df-container\">\n",
              "    <div>\n",
              "<style scoped>\n",
              "    .dataframe tbody tr th:only-of-type {\n",
              "        vertical-align: middle;\n",
              "    }\n",
              "\n",
              "    .dataframe tbody tr th {\n",
              "        vertical-align: top;\n",
              "    }\n",
              "\n",
              "    .dataframe thead th {\n",
              "        text-align: right;\n",
              "    }\n",
              "</style>\n",
              "<table border=\"1\" class=\"dataframe\">\n",
              "  <thead>\n",
              "    <tr style=\"text-align: right;\">\n",
              "      <th></th>\n",
              "      <th>source</th>\n",
              "      <th>text</th>\n",
              "      <th>created_at</th>\n",
              "      <th>retweet_count</th>\n",
              "      <th>favorite_count</th>\n",
              "      <th>is_retweet</th>\n",
              "      <th>id_str</th>\n",
              "    </tr>\n",
              "  </thead>\n",
              "  <tbody>\n",
              "    <tr>\n",
              "      <th>0</th>\n",
              "      <td>Twitter for iPhone</td>\n",
              "      <td>LOSER! https://t.co/p5imhMJqS1</td>\n",
              "      <td>05-18-2020 14:55:14</td>\n",
              "      <td>32295</td>\n",
              "      <td>135445</td>\n",
              "      <td>false</td>\n",
              "      <td>1262396333064892416</td>\n",
              "    </tr>\n",
              "    <tr>\n",
              "      <th>1</th>\n",
              "      <td>Twitter for iPhone</td>\n",
              "      <td>Most of the money raised by the RINO losers of...</td>\n",
              "      <td>05-05-2020 18:18:26</td>\n",
              "      <td>19706</td>\n",
              "      <td>82425</td>\n",
              "      <td>false</td>\n",
              "      <td>1257736426206031874</td>\n",
              "    </tr>\n",
              "    <tr>\n",
              "      <th>2</th>\n",
              "      <td>Twitter for iPhone</td>\n",
              "      <td>....because they don’t know how to win and the...</td>\n",
              "      <td>05-05-2020 04:46:34</td>\n",
              "      <td>12665</td>\n",
              "      <td>56868</td>\n",
              "      <td>false</td>\n",
              "      <td>1257532112233803782</td>\n",
              "    </tr>\n",
              "    <tr>\n",
              "      <th>3</th>\n",
              "      <td>Twitter for iPhone</td>\n",
              "      <td>....lost for Evan “McMuffin” McMullin (to me)....</td>\n",
              "      <td>05-05-2020 04:46:34</td>\n",
              "      <td>13855</td>\n",
              "      <td>62268</td>\n",
              "      <td>false</td>\n",
              "      <td>1257532114666508291</td>\n",
              "    </tr>\n",
              "    <tr>\n",
              "      <th>4</th>\n",
              "      <td>Twitter for iPhone</td>\n",
              "      <td>....get even for all of their many failures. Y...</td>\n",
              "      <td>05-05-2020 04:46:33</td>\n",
              "      <td>8122</td>\n",
              "      <td>33261</td>\n",
              "      <td>false</td>\n",
              "      <td>1257532110971318274</td>\n",
              "    </tr>\n",
              "  </tbody>\n",
              "</table>\n",
              "</div>\n",
              "    <div class=\"colab-df-buttons\">\n",
              "\n",
              "  <div class=\"colab-df-container\">\n",
              "    <button class=\"colab-df-convert\" onclick=\"convertToInteractive('df-3a6421d5-d83c-42f4-8f7c-80089709585f')\"\n",
              "            title=\"Convert this dataframe to an interactive table.\"\n",
              "            style=\"display:none;\">\n",
              "\n",
              "  <svg xmlns=\"http://www.w3.org/2000/svg\" height=\"24px\" viewBox=\"0 -960 960 960\">\n",
              "    <path d=\"M120-120v-720h720v720H120Zm60-500h600v-160H180v160Zm220 220h160v-160H400v160Zm0 220h160v-160H400v160ZM180-400h160v-160H180v160Zm440 0h160v-160H620v160ZM180-180h160v-160H180v160Zm440 0h160v-160H620v160Z\"/>\n",
              "  </svg>\n",
              "    </button>\n",
              "\n",
              "  <style>\n",
              "    .colab-df-container {\n",
              "      display:flex;\n",
              "      gap: 12px;\n",
              "    }\n",
              "\n",
              "    .colab-df-convert {\n",
              "      background-color: #E8F0FE;\n",
              "      border: none;\n",
              "      border-radius: 50%;\n",
              "      cursor: pointer;\n",
              "      display: none;\n",
              "      fill: #1967D2;\n",
              "      height: 32px;\n",
              "      padding: 0 0 0 0;\n",
              "      width: 32px;\n",
              "    }\n",
              "\n",
              "    .colab-df-convert:hover {\n",
              "      background-color: #E2EBFA;\n",
              "      box-shadow: 0px 1px 2px rgba(60, 64, 67, 0.3), 0px 1px 3px 1px rgba(60, 64, 67, 0.15);\n",
              "      fill: #174EA6;\n",
              "    }\n",
              "\n",
              "    .colab-df-buttons div {\n",
              "      margin-bottom: 4px;\n",
              "    }\n",
              "\n",
              "    [theme=dark] .colab-df-convert {\n",
              "      background-color: #3B4455;\n",
              "      fill: #D2E3FC;\n",
              "    }\n",
              "\n",
              "    [theme=dark] .colab-df-convert:hover {\n",
              "      background-color: #434B5C;\n",
              "      box-shadow: 0px 1px 3px 1px rgba(0, 0, 0, 0.15);\n",
              "      filter: drop-shadow(0px 1px 2px rgba(0, 0, 0, 0.3));\n",
              "      fill: #FFFFFF;\n",
              "    }\n",
              "  </style>\n",
              "\n",
              "    <script>\n",
              "      const buttonEl =\n",
              "        document.querySelector('#df-3a6421d5-d83c-42f4-8f7c-80089709585f button.colab-df-convert');\n",
              "      buttonEl.style.display =\n",
              "        google.colab.kernel.accessAllowed ? 'block' : 'none';\n",
              "\n",
              "      async function convertToInteractive(key) {\n",
              "        const element = document.querySelector('#df-3a6421d5-d83c-42f4-8f7c-80089709585f');\n",
              "        const dataTable =\n",
              "          await google.colab.kernel.invokeFunction('convertToInteractive',\n",
              "                                                    [key], {});\n",
              "        if (!dataTable) return;\n",
              "\n",
              "        const docLinkHtml = 'Like what you see? Visit the ' +\n",
              "          '<a target=\"_blank\" href=https://colab.research.google.com/notebooks/data_table.ipynb>data table notebook</a>'\n",
              "          + ' to learn more about interactive tables.';\n",
              "        element.innerHTML = '';\n",
              "        dataTable['output_type'] = 'display_data';\n",
              "        await google.colab.output.renderOutput(dataTable, element);\n",
              "        const docLink = document.createElement('div');\n",
              "        docLink.innerHTML = docLinkHtml;\n",
              "        element.appendChild(docLink);\n",
              "      }\n",
              "    </script>\n",
              "  </div>\n",
              "\n",
              "\n",
              "<div id=\"df-444e88f9-4c59-4b11-9a5a-bb68a968e5ca\">\n",
              "  <button class=\"colab-df-quickchart\" onclick=\"quickchart('df-444e88f9-4c59-4b11-9a5a-bb68a968e5ca')\"\n",
              "            title=\"Suggest charts\"\n",
              "            style=\"display:none;\">\n",
              "\n",
              "<svg xmlns=\"http://www.w3.org/2000/svg\" height=\"24px\"viewBox=\"0 0 24 24\"\n",
              "     width=\"24px\">\n",
              "    <g>\n",
              "        <path d=\"M19 3H5c-1.1 0-2 .9-2 2v14c0 1.1.9 2 2 2h14c1.1 0 2-.9 2-2V5c0-1.1-.9-2-2-2zM9 17H7v-7h2v7zm4 0h-2V7h2v10zm4 0h-2v-4h2v4z\"/>\n",
              "    </g>\n",
              "</svg>\n",
              "  </button>\n",
              "\n",
              "<style>\n",
              "  .colab-df-quickchart {\n",
              "      --bg-color: #E8F0FE;\n",
              "      --fill-color: #1967D2;\n",
              "      --hover-bg-color: #E2EBFA;\n",
              "      --hover-fill-color: #174EA6;\n",
              "      --disabled-fill-color: #AAA;\n",
              "      --disabled-bg-color: #DDD;\n",
              "  }\n",
              "\n",
              "  [theme=dark] .colab-df-quickchart {\n",
              "      --bg-color: #3B4455;\n",
              "      --fill-color: #D2E3FC;\n",
              "      --hover-bg-color: #434B5C;\n",
              "      --hover-fill-color: #FFFFFF;\n",
              "      --disabled-bg-color: #3B4455;\n",
              "      --disabled-fill-color: #666;\n",
              "  }\n",
              "\n",
              "  .colab-df-quickchart {\n",
              "    background-color: var(--bg-color);\n",
              "    border: none;\n",
              "    border-radius: 50%;\n",
              "    cursor: pointer;\n",
              "    display: none;\n",
              "    fill: var(--fill-color);\n",
              "    height: 32px;\n",
              "    padding: 0;\n",
              "    width: 32px;\n",
              "  }\n",
              "\n",
              "  .colab-df-quickchart:hover {\n",
              "    background-color: var(--hover-bg-color);\n",
              "    box-shadow: 0 1px 2px rgba(60, 64, 67, 0.3), 0 1px 3px 1px rgba(60, 64, 67, 0.15);\n",
              "    fill: var(--button-hover-fill-color);\n",
              "  }\n",
              "\n",
              "  .colab-df-quickchart-complete:disabled,\n",
              "  .colab-df-quickchart-complete:disabled:hover {\n",
              "    background-color: var(--disabled-bg-color);\n",
              "    fill: var(--disabled-fill-color);\n",
              "    box-shadow: none;\n",
              "  }\n",
              "\n",
              "  .colab-df-spinner {\n",
              "    border: 2px solid var(--fill-color);\n",
              "    border-color: transparent;\n",
              "    border-bottom-color: var(--fill-color);\n",
              "    animation:\n",
              "      spin 1s steps(1) infinite;\n",
              "  }\n",
              "\n",
              "  @keyframes spin {\n",
              "    0% {\n",
              "      border-color: transparent;\n",
              "      border-bottom-color: var(--fill-color);\n",
              "      border-left-color: var(--fill-color);\n",
              "    }\n",
              "    20% {\n",
              "      border-color: transparent;\n",
              "      border-left-color: var(--fill-color);\n",
              "      border-top-color: var(--fill-color);\n",
              "    }\n",
              "    30% {\n",
              "      border-color: transparent;\n",
              "      border-left-color: var(--fill-color);\n",
              "      border-top-color: var(--fill-color);\n",
              "      border-right-color: var(--fill-color);\n",
              "    }\n",
              "    40% {\n",
              "      border-color: transparent;\n",
              "      border-right-color: var(--fill-color);\n",
              "      border-top-color: var(--fill-color);\n",
              "    }\n",
              "    60% {\n",
              "      border-color: transparent;\n",
              "      border-right-color: var(--fill-color);\n",
              "    }\n",
              "    80% {\n",
              "      border-color: transparent;\n",
              "      border-right-color: var(--fill-color);\n",
              "      border-bottom-color: var(--fill-color);\n",
              "    }\n",
              "    90% {\n",
              "      border-color: transparent;\n",
              "      border-bottom-color: var(--fill-color);\n",
              "    }\n",
              "  }\n",
              "</style>\n",
              "\n",
              "  <script>\n",
              "    async function quickchart(key) {\n",
              "      const quickchartButtonEl =\n",
              "        document.querySelector('#' + key + ' button');\n",
              "      quickchartButtonEl.disabled = true;  // To prevent multiple clicks.\n",
              "      quickchartButtonEl.classList.add('colab-df-spinner');\n",
              "      try {\n",
              "        const charts = await google.colab.kernel.invokeFunction(\n",
              "            'suggestCharts', [key], {});\n",
              "      } catch (error) {\n",
              "        console.error('Error during call to suggestCharts:', error);\n",
              "      }\n",
              "      quickchartButtonEl.classList.remove('colab-df-spinner');\n",
              "      quickchartButtonEl.classList.add('colab-df-quickchart-complete');\n",
              "    }\n",
              "    (() => {\n",
              "      let quickchartButtonEl =\n",
              "        document.querySelector('#df-444e88f9-4c59-4b11-9a5a-bb68a968e5ca button');\n",
              "      quickchartButtonEl.style.display =\n",
              "        google.colab.kernel.accessAllowed ? 'block' : 'none';\n",
              "    })();\n",
              "  </script>\n",
              "</div>\n",
              "\n",
              "    </div>\n",
              "  </div>\n"
            ]
          },
          "metadata": {},
          "execution_count": 23
        }
      ]
    },
    {
      "cell_type": "code",
      "source": [
        "# Importing Libraries\n",
        "\n",
        "import re\n",
        "import unicodedata\n",
        "import nltk\n",
        "from nltk.corpus import stopwords\n",
        "import matplotlib.pyplot as plt"
      ],
      "metadata": {
        "id": "XMkBOMlbs4vs"
      },
      "execution_count": 46,
      "outputs": []
    },
    {
      "cell_type": "code",
      "source": [
        "# adding extra words to stopwords list. This will help to remove words which are not in stop word list.\n",
        "\n",
        "ADDITIONAL_STOPWORDS = ['covfefe']"
      ],
      "metadata": {
        "id": "EynJMTYmtAnz"
      },
      "execution_count": 25,
      "outputs": []
    },
    {
      "cell_type": "code",
      "source": [
        "# Download wordnet for lemmatizing.\n",
        "\n",
        "import nltk\n",
        "nltk.download('wordnet')"
      ],
      "metadata": {
        "colab": {
          "base_uri": "https://localhost:8080/"
        },
        "id": "lBnDXLlLt_Vh",
        "outputId": "3884540b-48b4-4707-8306-6cb11db7cc41"
      },
      "execution_count": 37,
      "outputs": [
        {
          "output_type": "stream",
          "name": "stderr",
          "text": [
            "[nltk_data] Downloading package wordnet to /root/nltk_data...\n"
          ]
        },
        {
          "output_type": "execute_result",
          "data": {
            "text/plain": [
              "True"
            ]
          },
          "metadata": {},
          "execution_count": 37
        }
      ]
    },
    {
      "cell_type": "code",
      "source": [
        "'''\n",
        "unicodedata.normalize('NFKD') - NFKD stands for \"Normalization Form Compatibility Decomposition.\" It is one of the Unicode normalization forms\n",
        "                                used to transform Unicode text into a standardized representation. Unicode normalization is a\n",
        "                                process of transforming text that may have multiple representations into a standardized or canonical\n",
        "                                form.\n",
        "\n",
        ".encode('ascii', 'ignore') - This part encodes the normalized Unicode string into ASCII, ignoring any characters that cannot be\n",
        "                             represented in ASCII. This is a common technique to handle non-ASCII characters.\n",
        "\n",
        ".decode('utf-8', 'ignore') - The encoded ASCII string is then decoded back to UTF-8, ignoring any decoding errors. This step ensures\n",
        "                             that the resulting string is in UTF-8 format.\n",
        "\n",
        ".lower() - Finally, the entire string is converted to lowercase using the lower() method. This is a standard step in text\n",
        "           preprocessing to ensure case consistency\n",
        "\n",
        "words = re.sub(r'[^\\w\\s]', '', text).split() - capture everything that is not a word or a space and convert them to ''\n",
        "\n",
        "wnl.lemmatize(word) for word in words if word not in stopwords - lemmatize the words which are not in the stopwords to its root form\n",
        "'''\n",
        "\n",
        "def basic_clean(text):\n",
        "  \"\"\"A simple function to clean up the data. All the words that are not designated as a stop word is then lemmatized after encoding\n",
        "     and basic regex parsing are performed.\n",
        "  \"\"\"\n",
        "  wnl = nltk.stem.WordNetLemmatizer()\n",
        "  stopwords = nltk.corpus.stopwords.words('english') + ADDITIONAL_STOPWORDS\n",
        "  text = (unicodedata.normalize('NFKD', text)\n",
        "    .encode('ascii', 'ignore')\n",
        "    .decode('utf-8', 'ignore')\n",
        "    .lower())\n",
        "  words = re.sub(r'[^\\w\\s]', '', text).split()\n",
        "  return [wnl.lemmatize(word) for word in words if word not in stopwords]"
      ],
      "metadata": {
        "id": "Tb_AQdx9tQT9"
      },
      "execution_count": 73,
      "outputs": []
    },
    {
      "cell_type": "code",
      "source": [
        "words = basic_clean(''.join(str(df['text'].tolist())))"
      ],
      "metadata": {
        "id": "RnLMyEyothzo"
      },
      "execution_count": 79,
      "outputs": []
    },
    {
      "cell_type": "code",
      "source": [
        "words[:20]"
      ],
      "metadata": {
        "colab": {
          "base_uri": "https://localhost:8080/"
        },
        "id": "qccvMJT3toBd",
        "outputId": "5bcc2954-d726-4884-e27c-ca7e610bc3c7"
      },
      "execution_count": 80,
      "outputs": [
        {
          "output_type": "execute_result",
          "data": {
            "text/plain": [
              "['loser',\n",
              " 'httpstcop5imhmjqs1',\n",
              " 'money',\n",
              " 'raised',\n",
              " 'rino',\n",
              " 'loser',\n",
              " 'socalled',\n",
              " 'lincoln',\n",
              " 'project',\n",
              " 'go',\n",
              " 'pocket',\n",
              " 'ive',\n",
              " 'done',\n",
              " 'judge',\n",
              " 'tax',\n",
              " 'regulation',\n",
              " 'healthcare',\n",
              " 'military',\n",
              " 'vet',\n",
              " 'choice']"
            ]
          },
          "metadata": {},
          "execution_count": 80
        }
      ]
    },
    {
      "cell_type": "code",
      "source": [
        "# Top 10 bigrams from the text\n",
        "\n",
        "(pd.Series(nltk.ngrams(words, 2)).value_counts())[:10]"
      ],
      "metadata": {
        "colab": {
          "base_uri": "https://localhost:8080/"
        },
        "id": "GI7wnwmpuLH8",
        "outputId": "8ad4d52d-8be5-4559-e577-8832feb46520"
      },
      "execution_count": 76,
      "outputs": [
        {
          "output_type": "execute_result",
          "data": {
            "text/plain": [
              "(hater, loser)        42\n",
              "(total, loser)        33\n",
              "(loser, hater)        14\n",
              "(amp, loser)          13\n",
              "(donald, trump)       11\n",
              "(hater, amp)          11\n",
              "(separate, winner)     8\n",
              "(winner, loser)        8\n",
              "(loser, like)          6\n",
              "(wear, wig)            6\n",
              "dtype: int64"
            ]
          },
          "metadata": {},
          "execution_count": 76
        }
      ]
    },
    {
      "cell_type": "code",
      "source": [
        "# Top 10 trigrams from the text\n",
        "\n",
        "(pd.Series(nltk.ngrams(words, 3)).value_counts())[:10]"
      ],
      "metadata": {
        "colab": {
          "base_uri": "https://localhost:8080/"
        },
        "id": "MrUaIX-euOQJ",
        "outputId": "6a865136-cf96-4dbd-9147-7d5ec71300a7"
      },
      "execution_count": 77,
      "outputs": [
        {
          "output_type": "execute_result",
          "data": {
            "text/plain": [
              "(hater, amp, loser)             10\n",
              "(separate, winner, loser)        8\n",
              "(reacts, new, twist)             6\n",
              "(hater, loser, happy)            6\n",
              "(new, twist, fate)               6\n",
              "(person, reacts, new)            6\n",
              "(loser, person, reacts)          6\n",
              "(winner, loser, person)          6\n",
              "(including, hater, loser)        5\n",
              "(everyone, including, hater)     5\n",
              "dtype: int64"
            ]
          },
          "metadata": {},
          "execution_count": 77
        }
      ]
    },
    {
      "cell_type": "code",
      "source": [
        "bigrams_series = (pd.Series(nltk.ngrams(words, 2)).value_counts())[:12]\n",
        "trigrams_series = (pd.Series(nltk.ngrams(words, 3)).value_counts())[:12]"
      ],
      "metadata": {
        "id": "EbhDLhlmuSj8"
      },
      "execution_count": 43,
      "outputs": []
    },
    {
      "cell_type": "code",
      "source": [
        "# Sorting the count and ploting the bigrams\n",
        "\n",
        "bigrams_series.sort_values().plot.barh(color='blue', width=.9, figsize=(12, 8))"
      ],
      "metadata": {
        "colab": {
          "base_uri": "https://localhost:8080/",
          "height": 664
        },
        "id": "N97zaSf4uWNY",
        "outputId": "c75a1782-afa6-4d33-8bf6-2cc6207d4bb3"
      },
      "execution_count": 81,
      "outputs": [
        {
          "output_type": "execute_result",
          "data": {
            "text/plain": [
              "<Axes: >"
            ]
          },
          "metadata": {},
          "execution_count": 81
        },
        {
          "output_type": "display_data",
          "data": {
            "text/plain": [
              "<Figure size 1200x800 with 1 Axes>"
            ],
            "image/png": "[encoded data removed]"
          },
          "metadata": {}
        }
      ]
    },
    {
      "cell_type": "code",
      "source": [
        "# Sorting the count and ploting the bigrams with title, xlabel and ylabel.\n",
        "\n",
        "bigrams_series.sort_values().plot.barh(color='blue', width=.9, figsize=(12, 8))\n",
        "plt.title('20 Most Frequently Occuring Bigrams')\n",
        "plt.ylabel('Bigram')\n",
        "plt.xlabel('# of Occurances')"
      ],
      "metadata": {
        "colab": {
          "base_uri": "https://localhost:8080/",
          "height": 692
        },
        "id": "oCAyvcz5uYNB",
        "outputId": "9a521837-cdb7-43bb-b303-2a557352ee19"
      },
      "execution_count": 45,
      "outputs": [
        {
          "output_type": "execute_result",
          "data": {
            "text/plain": [
              "Text(0.5, 0, '# of Occurances')"
            ]
          },
          "metadata": {},
          "execution_count": 45
        },
        {
          "output_type": "display_data",
          "data": {
            "text/plain": [
              "<Figure size 1200x800 with 1 Axes>"
            ],
            "image/png": "[encoded data removed]"
          },
          "metadata": {}
        }
      ]
    },
    {
      "cell_type": "code",
      "source": [],
      "metadata": {
        "id": "pBpNDNQf2KrS"
      },
      "execution_count": null,
      "outputs": []
    }
  ]
}